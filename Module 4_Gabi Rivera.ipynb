{
 "cells": [
  {
   "cell_type": "markdown",
   "id": "a5bddce1",
   "metadata": {},
   "source": [
    "# Module 4 Assignment"
   ]
  },
  {
   "cell_type": "markdown",
   "id": "899be128",
   "metadata": {},
   "source": [
    "### Gabi Rivera    ||   20Nov2022   ||   ADS502-01"
   ]
  },
  {
   "cell_type": "code",
   "execution_count": 1,
   "id": "468fb134",
   "metadata": {},
   "outputs": [
    {
     "data": {
      "text/plain": [
       "'/Users/gabirivera/Desktop/MSADS2/ADS502-01/Module4/Assignment'"
      ]
     },
     "execution_count": 1,
     "metadata": {},
     "output_type": "execute_result"
    }
   ],
   "source": [
    "import os\n",
    "os.getcwd()"
   ]
  },
  {
   "cell_type": "code",
   "execution_count": 25,
   "id": "4891d62a",
   "metadata": {},
   "outputs": [],
   "source": [
    "import pandas as pd\n",
    "import numpy as np\n",
    "from sklearn.ensemble import RandomForestClassifier"
   ]
  },
  {
   "cell_type": "markdown",
   "id": "17ea9876",
   "metadata": {},
   "source": [
    "### Data Science Using Python and R: Chapter 13"
   ]
  },
  {
   "cell_type": "markdown",
   "id": "cbe50592",
   "metadata": {},
   "source": [
    "13. Create a logistic regression model to predict whether or not a customer has a store credit card, based on whether they have a web account and the days between purchases. Obtain the summary of the model."
   ]
  },
  {
   "cell_type": "markdown",
   "id": "cb64c12d",
   "metadata": {},
   "source": [
    "Import train and test datasets: "
   ]
  },
  {
   "cell_type": "code",
   "execution_count": 7,
   "id": "f668446b",
   "metadata": {},
   "outputs": [
    {
     "data": {
      "text/html": [
       "<div>\n",
       "<style scoped>\n",
       "    .dataframe tbody tr th:only-of-type {\n",
       "        vertical-align: middle;\n",
       "    }\n",
       "\n",
       "    .dataframe tbody tr th {\n",
       "        vertical-align: top;\n",
       "    }\n",
       "\n",
       "    .dataframe thead th {\n",
       "        text-align: right;\n",
       "    }\n",
       "</style>\n",
       "<table border=\"1\" class=\"dataframe\">\n",
       "  <thead>\n",
       "    <tr style=\"text-align: right;\">\n",
       "      <th></th>\n",
       "      <th>CC</th>\n",
       "      <th>Days</th>\n",
       "      <th>Web</th>\n",
       "      <th>Sales per Visit</th>\n",
       "    </tr>\n",
       "  </thead>\n",
       "  <tbody>\n",
       "    <tr>\n",
       "      <th>0</th>\n",
       "      <td>0</td>\n",
       "      <td>333.0</td>\n",
       "      <td>0</td>\n",
       "      <td>184.230000</td>\n",
       "    </tr>\n",
       "    <tr>\n",
       "      <th>1</th>\n",
       "      <td>0</td>\n",
       "      <td>171.5</td>\n",
       "      <td>0</td>\n",
       "      <td>38.500000</td>\n",
       "    </tr>\n",
       "    <tr>\n",
       "      <th>2</th>\n",
       "      <td>0</td>\n",
       "      <td>213.0</td>\n",
       "      <td>0</td>\n",
       "      <td>150.326667</td>\n",
       "    </tr>\n",
       "    <tr>\n",
       "      <th>3</th>\n",
       "      <td>1</td>\n",
       "      <td>71.4</td>\n",
       "      <td>1</td>\n",
       "      <td>104.240000</td>\n",
       "    </tr>\n",
       "    <tr>\n",
       "      <th>4</th>\n",
       "      <td>1</td>\n",
       "      <td>145.0</td>\n",
       "      <td>0</td>\n",
       "      <td>782.080000</td>\n",
       "    </tr>\n",
       "  </tbody>\n",
       "</table>\n",
       "</div>"
      ],
      "text/plain": [
       "   CC   Days  Web  Sales per Visit\n",
       "0   0  333.0    0       184.230000\n",
       "1   0  171.5    0        38.500000\n",
       "2   0  213.0    0       150.326667\n",
       "3   1   71.4    1       104.240000\n",
       "4   1  145.0    0       782.080000"
      ]
     },
     "execution_count": 7,
     "metadata": {},
     "output_type": "execute_result"
    }
   ],
   "source": [
    "cs_train = pd.read_csv(\"clothing_sales_training.csv\", sep = \",\")\n",
    "cs_train.head()"
   ]
  },
  {
   "cell_type": "code",
   "execution_count": 6,
   "id": "0818dea5",
   "metadata": {
    "scrolled": true
   },
   "outputs": [
    {
     "data": {
      "text/html": [
       "<div>\n",
       "<style scoped>\n",
       "    .dataframe tbody tr th:only-of-type {\n",
       "        vertical-align: middle;\n",
       "    }\n",
       "\n",
       "    .dataframe tbody tr th {\n",
       "        vertical-align: top;\n",
       "    }\n",
       "\n",
       "    .dataframe thead th {\n",
       "        text-align: right;\n",
       "    }\n",
       "</style>\n",
       "<table border=\"1\" class=\"dataframe\">\n",
       "  <thead>\n",
       "    <tr style=\"text-align: right;\">\n",
       "      <th></th>\n",
       "      <th>CC</th>\n",
       "      <th>Days</th>\n",
       "      <th>Web</th>\n",
       "      <th>Sales per Visit</th>\n",
       "    </tr>\n",
       "  </thead>\n",
       "  <tbody>\n",
       "    <tr>\n",
       "      <th>0</th>\n",
       "      <td>1</td>\n",
       "      <td>174.00</td>\n",
       "      <td>0</td>\n",
       "      <td>64.5000</td>\n",
       "    </tr>\n",
       "    <tr>\n",
       "      <th>1</th>\n",
       "      <td>1</td>\n",
       "      <td>87.62</td>\n",
       "      <td>0</td>\n",
       "      <td>105.7575</td>\n",
       "    </tr>\n",
       "    <tr>\n",
       "      <th>2</th>\n",
       "      <td>0</td>\n",
       "      <td>49.00</td>\n",
       "      <td>0</td>\n",
       "      <td>87.4400</td>\n",
       "    </tr>\n",
       "    <tr>\n",
       "      <th>3</th>\n",
       "      <td>0</td>\n",
       "      <td>72.50</td>\n",
       "      <td>0</td>\n",
       "      <td>60.0000</td>\n",
       "    </tr>\n",
       "    <tr>\n",
       "      <th>4</th>\n",
       "      <td>0</td>\n",
       "      <td>264.00</td>\n",
       "      <td>0</td>\n",
       "      <td>318.5000</td>\n",
       "    </tr>\n",
       "  </tbody>\n",
       "</table>\n",
       "</div>"
      ],
      "text/plain": [
       "   CC    Days  Web  Sales per Visit\n",
       "0   1  174.00    0          64.5000\n",
       "1   1   87.62    0         105.7575\n",
       "2   0   49.00    0          87.4400\n",
       "3   0   72.50    0          60.0000\n",
       "4   0  264.00    0         318.5000"
      ]
     },
     "execution_count": 6,
     "metadata": {},
     "output_type": "execute_result"
    }
   ],
   "source": [
    "cs_test = pd.read_csv(\"clothing_sales_test.csv\", sep = \",\")\n",
    "cs_test.head()"
   ]
  },
  {
   "cell_type": "markdown",
   "id": "20306535",
   "metadata": {},
   "source": [
    "Prepare X and y variables:"
   ]
  },
  {
   "cell_type": "code",
   "execution_count": 9,
   "id": "fa5830bd",
   "metadata": {},
   "outputs": [],
   "source": [
    "X = pd.DataFrame(cs_train[['Days', 'Web']])\n",
    "X = sm.add_constant(X)\n",
    "\n",
    "y = pd.DataFrame(cs_train[['CC']])"
   ]
  },
  {
   "cell_type": "markdown",
   "id": "d0a61c4b",
   "metadata": {},
   "source": [
    "Create logistic regression: "
   ]
  },
  {
   "cell_type": "code",
   "execution_count": 12,
   "id": "a19462f0",
   "metadata": {},
   "outputs": [
    {
     "name": "stdout",
     "output_type": "stream",
     "text": [
      "Optimization terminated successfully.\n",
      "         Current function value: 0.655955\n",
      "         Iterations 5\n"
     ]
    },
    {
     "data": {
      "text/html": [
       "<table class=\"simpletable\">\n",
       "<tr>\n",
       "        <td>Model:</td>              <td>Logit</td>      <td>Pseudo R-squared:</td>    <td>0.053</td>  \n",
       "</tr>\n",
       "<tr>\n",
       "  <td>Dependent Variable:</td>        <td>CC</td>              <td>AIC:</td>         <td>1909.5825</td>\n",
       "</tr>\n",
       "<tr>\n",
       "         <td>Date:</td>        <td>2022-11-20 10:00</td>       <td>BIC:</td>         <td>1925.4226</td>\n",
       "</tr>\n",
       "<tr>\n",
       "   <td>No. Observations:</td>        <td>1451</td>        <td>Log-Likelihood:</td>    <td>-951.79</td> \n",
       "</tr>\n",
       "<tr>\n",
       "       <td>Df Model:</td>              <td>2</td>            <td>LL-Null:</td>        <td>-1004.9</td> \n",
       "</tr>\n",
       "<tr>\n",
       "     <td>Df Residuals:</td>          <td>1448</td>         <td>LLR p-value:</td>    <td>8.3668e-24</td>\n",
       "</tr>\n",
       "<tr>\n",
       "      <td>Converged:</td>           <td>1.0000</td>           <td>Scale:</td>         <td>1.0000</td>  \n",
       "</tr>\n",
       "<tr>\n",
       "    <td>No. Iterations:</td>        <td>5.0000</td>              <td></td>               <td></td>     \n",
       "</tr>\n",
       "</table>\n",
       "<table class=\"simpletable\">\n",
       "<tr>\n",
       "    <td></td>     <th>Coef.</th>  <th>Std.Err.</th>    <th>z</th>     <th>P>|z|</th> <th>[0.025</th>  <th>0.975]</th> \n",
       "</tr>\n",
       "<tr>\n",
       "  <th>const</th> <td>0.4962</td>   <td>0.0887</td>  <td>5.5968</td>  <td>0.0000</td> <td>0.3224</td>  <td>0.6699</td> \n",
       "</tr>\n",
       "<tr>\n",
       "  <th>Days</th>  <td>-0.0037</td>  <td>0.0004</td>  <td>-8.4491</td> <td>0.0000</td> <td>-0.0046</td> <td>-0.0028</td>\n",
       "</tr>\n",
       "<tr>\n",
       "  <th>Web</th>   <td>1.2537</td>   <td>0.3307</td>  <td>3.7914</td>  <td>0.0001</td> <td>0.6056</td>  <td>1.9018</td> \n",
       "</tr>\n",
       "</table>"
      ],
      "text/plain": [
       "<class 'statsmodels.iolib.summary2.Summary'>\n",
       "\"\"\"\n",
       "                         Results: Logit\n",
       "=================================================================\n",
       "Model:              Logit            Pseudo R-squared: 0.053     \n",
       "Dependent Variable: CC               AIC:              1909.5825 \n",
       "Date:               2022-11-20 10:00 BIC:              1925.4226 \n",
       "No. Observations:   1451             Log-Likelihood:   -951.79   \n",
       "Df Model:           2                LL-Null:          -1004.9   \n",
       "Df Residuals:       1448             LLR p-value:      8.3668e-24\n",
       "Converged:          1.0000           Scale:            1.0000    \n",
       "No. Iterations:     5.0000                                       \n",
       "-------------------------------------------------------------------\n",
       "           Coef.    Std.Err.      z      P>|z|     [0.025    0.975]\n",
       "-------------------------------------------------------------------\n",
       "const      0.4962     0.0887    5.5968   0.0000    0.3224    0.6699\n",
       "Days      -0.0037     0.0004   -8.4491   0.0000   -0.0046   -0.0028\n",
       "Web        1.2537     0.3307    3.7914   0.0001    0.6056    1.9018\n",
       "=================================================================\n",
       "\n",
       "\"\"\""
      ]
     },
     "execution_count": 12,
     "metadata": {},
     "output_type": "execute_result"
    }
   ],
   "source": [
    "logreg01 = sm.Logit(y, X).fit()\n",
    "logreg01.summary2()"
   ]
  },
  {
   "cell_type": "markdown",
   "id": "5a1e402b",
   "metadata": {},
   "source": [
    "14. Are there any variables that should be removed from the model? If so, remove them and rerun the model."
   ]
  },
  {
   "cell_type": "markdown",
   "id": "2735988f",
   "metadata": {},
   "source": [
    "Both variables will be included because there's no sign of multicollinearity amongst the variables. The z-values have reasonable scores with significantly small p-values less than 0.05 level of significance."
   ]
  },
  {
   "cell_type": "markdown",
   "id": "ead00375",
   "metadata": {},
   "source": [
    "15. Write the descriptive form of the logistic regression model using the coefficients obtained from Question 1."
   ]
  },
  {
   "cell_type": "markdown",
   "id": "a37a2809",
   "metadata": {},
   "source": [
    "ln(CC) = 0.4962 -0.0037Days + 1.2537Web"
   ]
  },
  {
   "cell_type": "markdown",
   "id": "7aead1ea",
   "metadata": {},
   "source": [
    "16. Validate the model using the test data set."
   ]
  },
  {
   "cell_type": "code",
   "execution_count": 13,
   "id": "7c987b4e",
   "metadata": {},
   "outputs": [
    {
     "name": "stdout",
     "output_type": "stream",
     "text": [
      "Optimization terminated successfully.\n",
      "         Current function value: 0.656885\n",
      "         Iterations 5\n"
     ]
    },
    {
     "data": {
      "text/html": [
       "<table class=\"simpletable\">\n",
       "<tr>\n",
       "        <td>Model:</td>              <td>Logit</td>      <td>Pseudo R-squared:</td>    <td>0.052</td>  \n",
       "</tr>\n",
       "<tr>\n",
       "  <td>Dependent Variable:</td>        <td>CC</td>              <td>AIC:</td>         <td>1838.7104</td>\n",
       "</tr>\n",
       "<tr>\n",
       "         <td>Date:</td>        <td>2022-11-20 10:02</td>       <td>BIC:</td>         <td>1854.4324</td>\n",
       "</tr>\n",
       "<tr>\n",
       "   <td>No. Observations:</td>        <td>1395</td>        <td>Log-Likelihood:</td>    <td>-916.36</td> \n",
       "</tr>\n",
       "<tr>\n",
       "       <td>Df Model:</td>              <td>2</td>            <td>LL-Null:</td>        <td>-966.40</td> \n",
       "</tr>\n",
       "<tr>\n",
       "     <td>Df Residuals:</td>          <td>1392</td>         <td>LLR p-value:</td>    <td>1.8534e-22</td>\n",
       "</tr>\n",
       "<tr>\n",
       "      <td>Converged:</td>           <td>1.0000</td>           <td>Scale:</td>         <td>1.0000</td>  \n",
       "</tr>\n",
       "<tr>\n",
       "    <td>No. Iterations:</td>        <td>5.0000</td>              <td></td>               <td></td>     \n",
       "</tr>\n",
       "</table>\n",
       "<table class=\"simpletable\">\n",
       "<tr>\n",
       "    <td></td>     <th>Coef.</th>  <th>Std.Err.</th>    <th>z</th>     <th>P>|z|</th> <th>[0.025</th>  <th>0.975]</th> \n",
       "</tr>\n",
       "<tr>\n",
       "  <th>const</th> <td>0.4634</td>   <td>0.0873</td>  <td>5.3105</td>  <td>0.0000</td> <td>0.2924</td>  <td>0.6345</td> \n",
       "</tr>\n",
       "<tr>\n",
       "  <th>Days</th>  <td>-0.0035</td>  <td>0.0004</td>  <td>-8.2261</td> <td>0.0000</td> <td>-0.0043</td> <td>-0.0026</td>\n",
       "</tr>\n",
       "<tr>\n",
       "  <th>Web</th>   <td>1.0973</td>   <td>0.2830</td>  <td>3.8780</td>  <td>0.0001</td> <td>0.5427</td>  <td>1.6519</td> \n",
       "</tr>\n",
       "</table>"
      ],
      "text/plain": [
       "<class 'statsmodels.iolib.summary2.Summary'>\n",
       "\"\"\"\n",
       "                         Results: Logit\n",
       "=================================================================\n",
       "Model:              Logit            Pseudo R-squared: 0.052     \n",
       "Dependent Variable: CC               AIC:              1838.7104 \n",
       "Date:               2022-11-20 10:02 BIC:              1854.4324 \n",
       "No. Observations:   1395             Log-Likelihood:   -916.36   \n",
       "Df Model:           2                LL-Null:          -966.40   \n",
       "Df Residuals:       1392             LLR p-value:      1.8534e-22\n",
       "Converged:          1.0000           Scale:            1.0000    \n",
       "No. Iterations:     5.0000                                       \n",
       "-------------------------------------------------------------------\n",
       "           Coef.    Std.Err.      z      P>|z|     [0.025    0.975]\n",
       "-------------------------------------------------------------------\n",
       "const      0.4634     0.0873    5.3105   0.0000    0.2924    0.6345\n",
       "Days      -0.0035     0.0004   -8.2261   0.0000   -0.0043   -0.0026\n",
       "Web        1.0973     0.2830    3.8780   0.0001    0.5427    1.6519\n",
       "=================================================================\n",
       "\n",
       "\"\"\""
      ]
     },
     "execution_count": 13,
     "metadata": {},
     "output_type": "execute_result"
    }
   ],
   "source": [
    "X_test = pd.DataFrame(cs_test[['Days', 'Web']])\n",
    "X_test = sm.add_constant(X_test)\n",
    "y_test = pd.DataFrame(cs_test[['CC']])\n",
    "\n",
    "logreg01_test = sm.Logit(y_test, X_test).fit()\n",
    "logreg01_test.summary2()"
   ]
  },
  {
   "cell_type": "markdown",
   "id": "90d68e94",
   "metadata": {},
   "source": [
    "17. Obtain the predicted values of the response variable for each record in the data set."
   ]
  },
  {
   "cell_type": "code",
   "execution_count": null,
   "id": "827ab65a",
   "metadata": {},
   "outputs": [],
   "source": [
    "Predicted values fo test datast: "
   ]
  },
  {
   "cell_type": "code",
   "execution_count": 17,
   "id": "2438289f",
   "metadata": {},
   "outputs": [
    {
     "data": {
      "text/plain": [
       "0    0.463090\n",
       "1    0.542853\n",
       "2    0.578054\n",
       "3    0.556706\n",
       "4    0.382003\n",
       "dtype: float64"
      ]
     },
     "execution_count": 17,
     "metadata": {},
     "output_type": "execute_result"
    }
   ],
   "source": [
    "predictions_prob = logreg01.predict(X_test)\n",
    "predictions_prob.head()"
   ]
  },
  {
   "cell_type": "code",
   "execution_count": null,
   "id": "f939c6f7",
   "metadata": {},
   "outputs": [],
   "source": [
    "Convert predictions to binary results: "
   ]
  },
  {
   "cell_type": "code",
   "execution_count": 18,
   "id": "8b19b127",
   "metadata": {},
   "outputs": [
    {
     "data": {
      "text/plain": [
       "0    0\n",
       "1    1\n",
       "2    1\n",
       "3    1\n",
       "4    0\n",
       "dtype: int64"
      ]
     },
     "execution_count": 18,
     "metadata": {},
     "output_type": "execute_result"
    }
   ],
   "source": [
    "predictions = (logreg01.predict(X_test) > 0.5).astype(int)\n",
    "predictions.head()"
   ]
  },
  {
   "cell_type": "markdown",
   "id": "83fc2c69",
   "metadata": {},
   "source": [
    "### Data Science Using Python and R: Chapter 6"
   ]
  },
  {
   "cell_type": "markdown",
   "id": "5019dcc3",
   "metadata": {},
   "source": [
    "19. Use random forests on the training data set to predict income using marital status and capital gains and losses."
   ]
  },
  {
   "cell_type": "code",
   "execution_count": 23,
   "id": "79b8d1f3",
   "metadata": {},
   "outputs": [
    {
     "data": {
      "text/html": [
       "<div>\n",
       "<style scoped>\n",
       "    .dataframe tbody tr th:only-of-type {\n",
       "        vertical-align: middle;\n",
       "    }\n",
       "\n",
       "    .dataframe tbody tr th {\n",
       "        vertical-align: top;\n",
       "    }\n",
       "\n",
       "    .dataframe thead th {\n",
       "        text-align: right;\n",
       "    }\n",
       "</style>\n",
       "<table border=\"1\" class=\"dataframe\">\n",
       "  <thead>\n",
       "    <tr style=\"text-align: right;\">\n",
       "      <th></th>\n",
       "      <th>Marital status</th>\n",
       "      <th>Income</th>\n",
       "      <th>Cap_Gains_Losses</th>\n",
       "    </tr>\n",
       "  </thead>\n",
       "  <tbody>\n",
       "    <tr>\n",
       "      <th>0</th>\n",
       "      <td>Never-married</td>\n",
       "      <td>&lt;=50K</td>\n",
       "      <td>0.02174</td>\n",
       "    </tr>\n",
       "    <tr>\n",
       "      <th>1</th>\n",
       "      <td>Divorced</td>\n",
       "      <td>&lt;=50K</td>\n",
       "      <td>0.00000</td>\n",
       "    </tr>\n",
       "    <tr>\n",
       "      <th>2</th>\n",
       "      <td>Married</td>\n",
       "      <td>&lt;=50K</td>\n",
       "      <td>0.00000</td>\n",
       "    </tr>\n",
       "    <tr>\n",
       "      <th>3</th>\n",
       "      <td>Married</td>\n",
       "      <td>&lt;=50K</td>\n",
       "      <td>0.00000</td>\n",
       "    </tr>\n",
       "    <tr>\n",
       "      <th>4</th>\n",
       "      <td>Married</td>\n",
       "      <td>&lt;=50K</td>\n",
       "      <td>0.00000</td>\n",
       "    </tr>\n",
       "  </tbody>\n",
       "</table>\n",
       "</div>"
      ],
      "text/plain": [
       "  Marital status Income  Cap_Gains_Losses\n",
       "0  Never-married  <=50K           0.02174\n",
       "1       Divorced  <=50K           0.00000\n",
       "2        Married  <=50K           0.00000\n",
       "3        Married  <=50K           0.00000\n",
       "4        Married  <=50K           0.00000"
      ]
     },
     "execution_count": 23,
     "metadata": {},
     "output_type": "execute_result"
    }
   ],
   "source": [
    "a_train = pd.read_csv(\"adult_ch6_training\", sep = \",\")\n",
    "a_train.head()"
   ]
  },
  {
   "cell_type": "code",
   "execution_count": 24,
   "id": "a13ca31c",
   "metadata": {
    "scrolled": true
   },
   "outputs": [
    {
     "data": {
      "text/html": [
       "<div>\n",
       "<style scoped>\n",
       "    .dataframe tbody tr th:only-of-type {\n",
       "        vertical-align: middle;\n",
       "    }\n",
       "\n",
       "    .dataframe tbody tr th {\n",
       "        vertical-align: top;\n",
       "    }\n",
       "\n",
       "    .dataframe thead th {\n",
       "        text-align: right;\n",
       "    }\n",
       "</style>\n",
       "<table border=\"1\" class=\"dataframe\">\n",
       "  <thead>\n",
       "    <tr style=\"text-align: right;\">\n",
       "      <th></th>\n",
       "      <th>Marital status</th>\n",
       "      <th>Income</th>\n",
       "      <th>Cap_Gains_Losses</th>\n",
       "    </tr>\n",
       "  </thead>\n",
       "  <tbody>\n",
       "    <tr>\n",
       "      <th>0</th>\n",
       "      <td>Married</td>\n",
       "      <td>&lt;=50K</td>\n",
       "      <td>0.000000</td>\n",
       "    </tr>\n",
       "    <tr>\n",
       "      <th>1</th>\n",
       "      <td>Married</td>\n",
       "      <td>&gt;50K</td>\n",
       "      <td>0.051781</td>\n",
       "    </tr>\n",
       "    <tr>\n",
       "      <th>2</th>\n",
       "      <td>Never-married</td>\n",
       "      <td>&lt;=50K</td>\n",
       "      <td>0.000000</td>\n",
       "    </tr>\n",
       "    <tr>\n",
       "      <th>3</th>\n",
       "      <td>Divorced</td>\n",
       "      <td>&gt;50K</td>\n",
       "      <td>0.000000</td>\n",
       "    </tr>\n",
       "    <tr>\n",
       "      <th>4</th>\n",
       "      <td>Married</td>\n",
       "      <td>&gt;50K</td>\n",
       "      <td>0.000000</td>\n",
       "    </tr>\n",
       "  </tbody>\n",
       "</table>\n",
       "</div>"
      ],
      "text/plain": [
       "  Marital status Income  Cap_Gains_Losses\n",
       "0        Married  <=50K          0.000000\n",
       "1        Married   >50K          0.051781\n",
       "2  Never-married  <=50K          0.000000\n",
       "3       Divorced   >50K          0.000000\n",
       "4        Married   >50K          0.000000"
      ]
     },
     "execution_count": 24,
     "metadata": {},
     "output_type": "execute_result"
    }
   ],
   "source": [
    "a_test = pd.read_csv(\"adult_ch6_test\", sep = \",\")\n",
    "a_test.head()"
   ]
  },
  {
   "cell_type": "markdown",
   "id": "986d6853",
   "metadata": {},
   "source": [
    "Transform dependent variable to one-dimention: "
   ]
  },
  {
   "cell_type": "code",
   "execution_count": 53,
   "id": "873e80b5",
   "metadata": {},
   "outputs": [
    {
     "name": "stderr",
     "output_type": "stream",
     "text": [
      "/Users/gabirivera/opt/anaconda3/lib/python3.8/site-packages/statsmodels/tools/tools.py:152: FutureWarning: categorical is deprecated. Use pandas Categorical to represent categorical data and can get_dummies to construct dummy arrays. It will be removed after release 0.13.\n",
      "  warnings.warn(\n"
     ]
    }
   ],
   "source": [
    "y = a_train[['Income']]\n",
    "rfy = np.ravel(y)\n",
    "\n",
    "mar_np = np.array(a_train['Marital status'])\n",
    "(mar_cat, mar_cat_dict) = stattools.categorical(mar_np, drop=True, dictnames = True)\n",
    "\n",
    "mar_cat_pd = pd.DataFrame(mar_cat)\n",
    "X = pd.concat((a_train[['Cap_Gains_Losses']], mar_cat_pd), axis = 1)"
   ]
  },
  {
   "cell_type": "markdown",
   "id": "392a0317",
   "metadata": {},
   "source": [
    "Create random forrets train model: "
   ]
  },
  {
   "cell_type": "code",
   "execution_count": 54,
   "id": "6ab52399",
   "metadata": {
    "scrolled": true
   },
   "outputs": [
    {
     "name": "stderr",
     "output_type": "stream",
     "text": [
      "/Users/gabirivera/opt/anaconda3/lib/python3.8/site-packages/sklearn/utils/validation.py:1858: FutureWarning: Feature names only support names that are all strings. Got feature names with dtypes: ['int', 'str']. An error will be raised in 1.2.\n",
      "  warnings.warn(\n"
     ]
    }
   ],
   "source": [
    "rf01 = RandomForestClassifier(n_estimators = 100, criterion=\"gini\").fit(X,rfy)"
   ]
  },
  {
   "cell_type": "code",
   "execution_count": 56,
   "id": "7babfd58",
   "metadata": {},
   "outputs": [
    {
     "name": "stderr",
     "output_type": "stream",
     "text": [
      "/Users/gabirivera/opt/anaconda3/lib/python3.8/site-packages/sklearn/utils/validation.py:1858: FutureWarning: Feature names only support names that are all strings. Got feature names with dtypes: ['int', 'str']. An error will be raised in 1.2.\n",
      "  warnings.warn(\n"
     ]
    },
    {
     "data": {
      "text/html": [
       "<div>\n",
       "<style scoped>\n",
       "    .dataframe tbody tr th:only-of-type {\n",
       "        vertical-align: middle;\n",
       "    }\n",
       "\n",
       "    .dataframe tbody tr th {\n",
       "        vertical-align: top;\n",
       "    }\n",
       "\n",
       "    .dataframe thead th {\n",
       "        text-align: right;\n",
       "    }\n",
       "</style>\n",
       "<table border=\"1\" class=\"dataframe\">\n",
       "  <thead>\n",
       "    <tr style=\"text-align: right;\">\n",
       "      <th></th>\n",
       "      <th>Marital status</th>\n",
       "      <th>Income</th>\n",
       "      <th>Cap_Gains_Losses</th>\n",
       "      <th>pred</th>\n",
       "    </tr>\n",
       "  </thead>\n",
       "  <tbody>\n",
       "    <tr>\n",
       "      <th>0</th>\n",
       "      <td>Never-married</td>\n",
       "      <td>&lt;=50K</td>\n",
       "      <td>0.02174</td>\n",
       "      <td>&lt;=50K</td>\n",
       "    </tr>\n",
       "    <tr>\n",
       "      <th>1</th>\n",
       "      <td>Divorced</td>\n",
       "      <td>&lt;=50K</td>\n",
       "      <td>0.00000</td>\n",
       "      <td>&lt;=50K</td>\n",
       "    </tr>\n",
       "    <tr>\n",
       "      <th>2</th>\n",
       "      <td>Married</td>\n",
       "      <td>&lt;=50K</td>\n",
       "      <td>0.00000</td>\n",
       "      <td>&lt;=50K</td>\n",
       "    </tr>\n",
       "    <tr>\n",
       "      <th>3</th>\n",
       "      <td>Married</td>\n",
       "      <td>&lt;=50K</td>\n",
       "      <td>0.00000</td>\n",
       "      <td>&lt;=50K</td>\n",
       "    </tr>\n",
       "    <tr>\n",
       "      <th>4</th>\n",
       "      <td>Married</td>\n",
       "      <td>&lt;=50K</td>\n",
       "      <td>0.00000</td>\n",
       "      <td>&lt;=50K</td>\n",
       "    </tr>\n",
       "  </tbody>\n",
       "</table>\n",
       "</div>"
      ],
      "text/plain": [
       "  Marital status Income  Cap_Gains_Losses   pred\n",
       "0  Never-married  <=50K           0.02174  <=50K\n",
       "1       Divorced  <=50K           0.00000  <=50K\n",
       "2        Married  <=50K           0.00000  <=50K\n",
       "3        Married  <=50K           0.00000  <=50K\n",
       "4        Married  <=50K           0.00000  <=50K"
      ]
     },
     "execution_count": 56,
     "metadata": {},
     "output_type": "execute_result"
    }
   ],
   "source": [
    "rf01_d = rf01.predict(X)\n",
    "a_train['pred'] = rf01_d.tolist()\n",
    "a_train.head()"
   ]
  },
  {
   "cell_type": "code",
   "execution_count": 60,
   "id": "e544a137",
   "metadata": {},
   "outputs": [
    {
     "data": {
      "text/plain": [
       "<=50K    17375\n",
       ">50K      1386\n",
       "Name: pred, dtype: int64"
      ]
     },
     "execution_count": 60,
     "metadata": {},
     "output_type": "execute_result"
    }
   ],
   "source": [
    "a_train['pred'].value_counts()"
   ]
  },
  {
   "cell_type": "code",
   "execution_count": 68,
   "id": "0dd4d528",
   "metadata": {},
   "outputs": [
    {
     "data": {
      "text/plain": [
       "7.387665902670433"
      ]
     },
     "execution_count": 68,
     "metadata": {},
     "output_type": "execute_result"
    }
   ],
   "source": [
    "(1386/(17375+1386)*100)"
   ]
  },
  {
   "cell_type": "markdown",
   "id": "d2dc9ae9",
   "metadata": {},
   "source": [
    "20. Use random forests using the test data set that utilizes the same target and predictor variables.Does the test data result match the training data result?"
   ]
  },
  {
   "cell_type": "markdown",
   "id": "6d799ba1",
   "metadata": {},
   "source": [
    "Transform test dataset's dependent variable to one-dimention: "
   ]
  },
  {
   "cell_type": "code",
   "execution_count": 32,
   "id": "198cdb56",
   "metadata": {},
   "outputs": [
    {
     "name": "stderr",
     "output_type": "stream",
     "text": [
      "/Users/gabirivera/opt/anaconda3/lib/python3.8/site-packages/statsmodels/tools/tools.py:152: FutureWarning: categorical is deprecated. Use pandas Categorical to represent categorical data and can get_dummies to construct dummy arrays. It will be removed after release 0.13.\n",
      "  warnings.warn(\n"
     ]
    }
   ],
   "source": [
    "y2 = a_test[['Income']]\n",
    "rfy2 = np.ravel(y2)\n",
    "\n",
    "mar_np2 = np.array(a_test['Marital status'])\n",
    "(mar_cat2, mar_cat_dict2) = stattools.categorical(mar_np2, drop=True, dictnames = True)\n",
    "\n",
    "mar_cat_pd2 = pd.DataFrame(mar_cat2)\n",
    "X2 = pd.concat((a_test[['Cap_Gains_Losses']], mar_cat_pd2), axis = 1)"
   ]
  },
  {
   "cell_type": "code",
   "execution_count": 33,
   "id": "17e2cb5f",
   "metadata": {},
   "outputs": [
    {
     "name": "stderr",
     "output_type": "stream",
     "text": [
      "/Users/gabirivera/opt/anaconda3/lib/python3.8/site-packages/sklearn/utils/validation.py:1858: FutureWarning: Feature names only support names that are all strings. Got feature names with dtypes: ['int', 'str']. An error will be raised in 1.2.\n",
      "  warnings.warn(\n"
     ]
    }
   ],
   "source": [
    "rf02 = RandomForestClassifier(n_estimators = 100, criterion=\"gini\").fit(X2,rfy2)"
   ]
  },
  {
   "cell_type": "code",
   "execution_count": 48,
   "id": "9c7ae309",
   "metadata": {},
   "outputs": [
    {
     "name": "stderr",
     "output_type": "stream",
     "text": [
      "/Users/gabirivera/opt/anaconda3/lib/python3.8/site-packages/sklearn/utils/validation.py:1858: FutureWarning: Feature names only support names that are all strings. Got feature names with dtypes: ['int', 'str']. An error will be raised in 1.2.\n",
      "  warnings.warn(\n"
     ]
    }
   ],
   "source": [
    "rf02_d = rf02.predict(X)\n",
    "a_test['pred'] = rf02_d.tolist()"
   ]
  },
  {
   "cell_type": "code",
   "execution_count": 49,
   "id": "d30ed8c2",
   "metadata": {},
   "outputs": [
    {
     "data": {
      "text/html": [
       "<div>\n",
       "<style scoped>\n",
       "    .dataframe tbody tr th:only-of-type {\n",
       "        vertical-align: middle;\n",
       "    }\n",
       "\n",
       "    .dataframe tbody tr th {\n",
       "        vertical-align: top;\n",
       "    }\n",
       "\n",
       "    .dataframe thead th {\n",
       "        text-align: right;\n",
       "    }\n",
       "</style>\n",
       "<table border=\"1\" class=\"dataframe\">\n",
       "  <thead>\n",
       "    <tr style=\"text-align: right;\">\n",
       "      <th></th>\n",
       "      <th>Marital status</th>\n",
       "      <th>Income</th>\n",
       "      <th>Cap_Gains_Losses</th>\n",
       "      <th>pred</th>\n",
       "    </tr>\n",
       "  </thead>\n",
       "  <tbody>\n",
       "    <tr>\n",
       "      <th>0</th>\n",
       "      <td>Married</td>\n",
       "      <td>&lt;=50K</td>\n",
       "      <td>0.000000</td>\n",
       "      <td>&lt;=50K</td>\n",
       "    </tr>\n",
       "    <tr>\n",
       "      <th>1</th>\n",
       "      <td>Married</td>\n",
       "      <td>&gt;50K</td>\n",
       "      <td>0.051781</td>\n",
       "      <td>&gt;50K</td>\n",
       "    </tr>\n",
       "    <tr>\n",
       "      <th>2</th>\n",
       "      <td>Never-married</td>\n",
       "      <td>&lt;=50K</td>\n",
       "      <td>0.000000</td>\n",
       "      <td>&lt;=50K</td>\n",
       "    </tr>\n",
       "    <tr>\n",
       "      <th>3</th>\n",
       "      <td>Divorced</td>\n",
       "      <td>&gt;50K</td>\n",
       "      <td>0.000000</td>\n",
       "      <td>&lt;=50K</td>\n",
       "    </tr>\n",
       "    <tr>\n",
       "      <th>4</th>\n",
       "      <td>Married</td>\n",
       "      <td>&gt;50K</td>\n",
       "      <td>0.000000</td>\n",
       "      <td>&lt;=50K</td>\n",
       "    </tr>\n",
       "  </tbody>\n",
       "</table>\n",
       "</div>"
      ],
      "text/plain": [
       "  Marital status Income  Cap_Gains_Losses   pred\n",
       "0        Married  <=50K          0.000000  <=50K\n",
       "1        Married   >50K          0.051781   >50K\n",
       "2  Never-married  <=50K          0.000000  <=50K\n",
       "3       Divorced   >50K          0.000000  <=50K\n",
       "4        Married   >50K          0.000000  <=50K"
      ]
     },
     "execution_count": 49,
     "metadata": {},
     "output_type": "execute_result"
    }
   ],
   "source": [
    "a_test.head()"
   ]
  },
  {
   "cell_type": "code",
   "execution_count": 59,
   "id": "b0263b73",
   "metadata": {},
   "outputs": [
    {
     "data": {
      "text/plain": [
       "<=50K    5702\n",
       ">50K      453\n",
       "Name: pred, dtype: int64"
      ]
     },
     "execution_count": 59,
     "metadata": {},
     "output_type": "execute_result"
    }
   ],
   "source": [
    "a_test['pred'].value_counts()"
   ]
  },
  {
   "cell_type": "code",
   "execution_count": 67,
   "id": "34fcacfa",
   "metadata": {},
   "outputs": [
    {
     "data": {
      "text/plain": [
       "7.359870024370431"
      ]
     },
     "execution_count": 67,
     "metadata": {},
     "output_type": "execute_result"
    }
   ],
   "source": [
    "(453/(5702+453)*100)"
   ]
  }
 ],
 "metadata": {
  "kernelspec": {
   "display_name": "Python [conda env:root] *",
   "language": "python",
   "name": "conda-root-py"
  },
  "language_info": {
   "codemirror_mode": {
    "name": "ipython",
    "version": 3
   },
   "file_extension": ".py",
   "mimetype": "text/x-python",
   "name": "python",
   "nbconvert_exporter": "python",
   "pygments_lexer": "ipython3",
   "version": "3.8.13"
  }
 },
 "nbformat": 4,
 "nbformat_minor": 5
}
