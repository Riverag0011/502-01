{
 "cells": [
  {
   "cell_type": "markdown",
   "id": "1e90eaba",
   "metadata": {},
   "source": [
    "#### Module 6 Assignment"
   ]
  },
  {
   "cell_type": "markdown",
   "id": "969b4d79",
   "metadata": {},
   "source": [
    "Data Science Using Python and R: Chapter 10"
   ]
  },
  {
   "cell_type": "markdown",
   "id": "dcef9ddd",
   "metadata": {},
   "source": [
    "For the following exercises, work with the white_wine_training and white_wine_test data\n",
    "sets. Use either Python or R to solve each problem."
   ]
  },
  {
   "cell_type": "code",
   "execution_count": 1,
   "id": "00cb3371",
   "metadata": {},
   "outputs": [],
   "source": [
    "import pandas as pd\n",
    "from scipy import stats\n",
    "from sklearn.cluster import KMeans"
   ]
  },
  {
   "cell_type": "markdown",
   "id": "1ac14b5e",
   "metadata": {},
   "source": [
    "11 Input and standardize both the training and test data sets."
   ]
  },
  {
   "cell_type": "code",
   "execution_count": 3,
   "id": "310568f3",
   "metadata": {},
   "outputs": [],
   "source": [
    "#Import both datasets: \n",
    "wine_train = pd.read_csv(\"white_wine_training\", sep = ',')\n",
    "wine_test = pd.read_csv(\"white_wine_test\", sep = ',')\n",
    "\n",
    "\n",
    "#Isolate predictors:\n",
    "X = wine_train[['alcohol', 'sugar']]\n",
    "X_test = wine_test[['alcohol', 'sugar']]\n",
    "\n",
    "\n",
    "#Standardize predictors using z-scores:\n",
    "Xz = pd.DataFrame(stats.zscore(X), columns=['alcohol', 'sugar'])\n",
    "Xz_test = pd.DataFrame(stats.zscore(X_test), columns=['alcohol', 'sugar'])"
   ]
  },
  {
   "cell_type": "markdown",
   "id": "11cd134f",
   "metadata": {},
   "source": [
    "12 Run k‐means clustering on the training data set, using two clusters."
   ]
  },
  {
   "cell_type": "code",
   "execution_count": 4,
   "id": "007f3aa8",
   "metadata": {},
   "outputs": [],
   "source": [
    "#Kmeans model:\n",
    "kmeans01 = KMeans(n_clusters = 2).fit(Xz)\n",
    "\n",
    "#Save clustering membership to it's own variable: \n",
    "cluster = kmeans01.labels_\n",
    "\n",
    "#Separate records into two groups based on cluster membership: \n",
    "Cluster1 = Xz.loc[cluster == 0]\n",
    "Cluster2 = Xz.loc[cluster == 1]"
   ]
  },
  {
   "cell_type": "markdown",
   "id": "7743a625",
   "metadata": {},
   "source": [
    "13 Give the mean of each variable within each cluster and use the means to identify a “Dry\n",
    "wines” and a “Sweet wines” cluster."
   ]
  },
  {
   "cell_type": "code",
   "execution_count": 6,
   "id": "674513b7",
   "metadata": {
    "scrolled": true
   },
   "outputs": [
    {
     "data": {
      "text/html": [
       "<div>\n",
       "<style scoped>\n",
       "    .dataframe tbody tr th:only-of-type {\n",
       "        vertical-align: middle;\n",
       "    }\n",
       "\n",
       "    .dataframe tbody tr th {\n",
       "        vertical-align: top;\n",
       "    }\n",
       "\n",
       "    .dataframe thead th {\n",
       "        text-align: right;\n",
       "    }\n",
       "</style>\n",
       "<table border=\"1\" class=\"dataframe\">\n",
       "  <thead>\n",
       "    <tr style=\"text-align: right;\">\n",
       "      <th></th>\n",
       "      <th>alcohol</th>\n",
       "      <th>sugar</th>\n",
       "    </tr>\n",
       "  </thead>\n",
       "  <tbody>\n",
       "    <tr>\n",
       "      <th>count</th>\n",
       "      <td>712.000000</td>\n",
       "      <td>712.000000</td>\n",
       "    </tr>\n",
       "    <tr>\n",
       "      <th>mean</th>\n",
       "      <td>-0.755428</td>\n",
       "      <td>0.961034</td>\n",
       "    </tr>\n",
       "    <tr>\n",
       "      <th>std</th>\n",
       "      <td>0.580989</td>\n",
       "      <td>0.818726</td>\n",
       "    </tr>\n",
       "    <tr>\n",
       "      <th>min</th>\n",
       "      <td>-1.826971</td>\n",
       "      <td>-0.908740</td>\n",
       "    </tr>\n",
       "    <tr>\n",
       "      <th>25%</th>\n",
       "      <td>-1.158911</td>\n",
       "      <td>0.354160</td>\n",
       "    </tr>\n",
       "    <tr>\n",
       "      <th>50%</th>\n",
       "      <td>-0.908388</td>\n",
       "      <td>0.867883</td>\n",
       "    </tr>\n",
       "    <tr>\n",
       "      <th>75%</th>\n",
       "      <td>-0.407343</td>\n",
       "      <td>1.488630</td>\n",
       "    </tr>\n",
       "    <tr>\n",
       "      <th>max</th>\n",
       "      <td>2.014374</td>\n",
       "      <td>5.512788</td>\n",
       "    </tr>\n",
       "  </tbody>\n",
       "</table>\n",
       "</div>"
      ],
      "text/plain": [
       "          alcohol       sugar\n",
       "count  712.000000  712.000000\n",
       "mean    -0.755428    0.961034\n",
       "std      0.580989    0.818726\n",
       "min     -1.826971   -0.908740\n",
       "25%     -1.158911    0.354160\n",
       "50%     -0.908388    0.867883\n",
       "75%     -0.407343    1.488630\n",
       "max      2.014374    5.512788"
      ]
     },
     "execution_count": 6,
     "metadata": {},
     "output_type": "execute_result"
    }
   ],
   "source": [
    "#Summary1:\n",
    "Cluster1.describe()"
   ]
  },
  {
   "cell_type": "code",
   "execution_count": 7,
   "id": "05511d59",
   "metadata": {
    "scrolled": true
   },
   "outputs": [
    {
     "data": {
      "text/html": [
       "<div>\n",
       "<style scoped>\n",
       "    .dataframe tbody tr th:only-of-type {\n",
       "        vertical-align: middle;\n",
       "    }\n",
       "\n",
       "    .dataframe tbody tr th {\n",
       "        vertical-align: top;\n",
       "    }\n",
       "\n",
       "    .dataframe thead th {\n",
       "        text-align: right;\n",
       "    }\n",
       "</style>\n",
       "<table border=\"1\" class=\"dataframe\">\n",
       "  <thead>\n",
       "    <tr style=\"text-align: right;\">\n",
       "      <th></th>\n",
       "      <th>alcohol</th>\n",
       "      <th>sugar</th>\n",
       "    </tr>\n",
       "  </thead>\n",
       "  <tbody>\n",
       "    <tr>\n",
       "      <th>count</th>\n",
       "      <td>1097.000000</td>\n",
       "      <td>1097.000000</td>\n",
       "    </tr>\n",
       "    <tr>\n",
       "      <th>mean</th>\n",
       "      <td>0.490305</td>\n",
       "      <td>-0.623752</td>\n",
       "    </tr>\n",
       "    <tr>\n",
       "      <th>std</th>\n",
       "      <td>0.905663</td>\n",
       "      <td>0.475694</td>\n",
       "    </tr>\n",
       "    <tr>\n",
       "      <th>min</th>\n",
       "      <td>-1.576448</td>\n",
       "      <td>-1.122791</td>\n",
       "    </tr>\n",
       "    <tr>\n",
       "      <th>25%</th>\n",
       "      <td>-0.156821</td>\n",
       "      <td>-0.951551</td>\n",
       "    </tr>\n",
       "    <tr>\n",
       "      <th>50%</th>\n",
       "      <td>0.427732</td>\n",
       "      <td>-0.844525</td>\n",
       "    </tr>\n",
       "    <tr>\n",
       "      <th>75%</th>\n",
       "      <td>1.179299</td>\n",
       "      <td>-0.352208</td>\n",
       "    </tr>\n",
       "    <tr>\n",
       "      <th>max</th>\n",
       "      <td>2.891203</td>\n",
       "      <td>1.477928</td>\n",
       "    </tr>\n",
       "  </tbody>\n",
       "</table>\n",
       "</div>"
      ],
      "text/plain": [
       "           alcohol        sugar\n",
       "count  1097.000000  1097.000000\n",
       "mean      0.490305    -0.623752\n",
       "std       0.905663     0.475694\n",
       "min      -1.576448    -1.122791\n",
       "25%      -0.156821    -0.951551\n",
       "50%       0.427732    -0.844525\n",
       "75%       1.179299    -0.352208\n",
       "max       2.891203     1.477928"
      ]
     },
     "execution_count": 7,
     "metadata": {},
     "output_type": "execute_result"
    }
   ],
   "source": [
    "#Summary2:\n",
    "Cluster2.describe()"
   ]
  },
  {
   "cell_type": "markdown",
   "id": "f0e63061",
   "metadata": {},
   "source": [
    "14 Validate the clustering results by running k‐means clustering on the test data set, using\n",
    "two clusters, and identifying a “Dry wines” and a “Sweet wines” cluster."
   ]
  },
  {
   "cell_type": "code",
   "execution_count": 9,
   "id": "33436659",
   "metadata": {},
   "outputs": [],
   "source": [
    "kmeans_test = KMeans(n_clusters = 2).fit(Xz_test)\n",
    "cluster_test = kmeans_test.labels_ \n",
    "Cluster1_test = Xz_test.loc[cluster_test == 0]\n",
    "Cluster2_test = Xz_test.loc[cluster_test == 1]"
   ]
  },
  {
   "cell_type": "code",
   "execution_count": 11,
   "id": "e46d0717",
   "metadata": {},
   "outputs": [
    {
     "data": {
      "text/html": [
       "<div>\n",
       "<style scoped>\n",
       "    .dataframe tbody tr th:only-of-type {\n",
       "        vertical-align: middle;\n",
       "    }\n",
       "\n",
       "    .dataframe tbody tr th {\n",
       "        vertical-align: top;\n",
       "    }\n",
       "\n",
       "    .dataframe thead th {\n",
       "        text-align: right;\n",
       "    }\n",
       "</style>\n",
       "<table border=\"1\" class=\"dataframe\">\n",
       "  <thead>\n",
       "    <tr style=\"text-align: right;\">\n",
       "      <th></th>\n",
       "      <th>alcohol</th>\n",
       "      <th>sugar</th>\n",
       "    </tr>\n",
       "  </thead>\n",
       "  <tbody>\n",
       "    <tr>\n",
       "      <th>count</th>\n",
       "      <td>638.000000</td>\n",
       "      <td>638.000000</td>\n",
       "    </tr>\n",
       "    <tr>\n",
       "      <th>mean</th>\n",
       "      <td>-0.802630</td>\n",
       "      <td>1.065341</td>\n",
       "    </tr>\n",
       "    <tr>\n",
       "      <th>std</th>\n",
       "      <td>0.561207</td>\n",
       "      <td>0.779670</td>\n",
       "    </tr>\n",
       "    <tr>\n",
       "      <th>min</th>\n",
       "      <td>-2.080483</td>\n",
       "      <td>-1.037949</td>\n",
       "    </tr>\n",
       "    <tr>\n",
       "      <th>25%</th>\n",
       "      <td>-1.190079</td>\n",
       "      <td>0.396441</td>\n",
       "    </tr>\n",
       "    <tr>\n",
       "      <th>50%</th>\n",
       "      <td>-0.947241</td>\n",
       "      <td>1.032518</td>\n",
       "    </tr>\n",
       "    <tr>\n",
       "      <th>75%</th>\n",
       "      <td>-0.542512</td>\n",
       "      <td>1.583612</td>\n",
       "    </tr>\n",
       "    <tr>\n",
       "      <th>max</th>\n",
       "      <td>1.562080</td>\n",
       "      <td>3.298700</td>\n",
       "    </tr>\n",
       "  </tbody>\n",
       "</table>\n",
       "</div>"
      ],
      "text/plain": [
       "          alcohol       sugar\n",
       "count  638.000000  638.000000\n",
       "mean    -0.802630    1.065341\n",
       "std      0.561207    0.779670\n",
       "min     -2.080483   -1.037949\n",
       "25%     -1.190079    0.396441\n",
       "50%     -0.947241    1.032518\n",
       "75%     -0.542512    1.583612\n",
       "max      1.562080    3.298700"
      ]
     },
     "execution_count": 11,
     "metadata": {},
     "output_type": "execute_result"
    }
   ],
   "source": [
    "#Summary1: \n",
    "Cluster1_test.describe()"
   ]
  },
  {
   "cell_type": "code",
   "execution_count": 12,
   "id": "aa8427e0",
   "metadata": {},
   "outputs": [
    {
     "data": {
      "text/html": [
       "<div>\n",
       "<style scoped>\n",
       "    .dataframe tbody tr th:only-of-type {\n",
       "        vertical-align: middle;\n",
       "    }\n",
       "\n",
       "    .dataframe tbody tr th {\n",
       "        vertical-align: top;\n",
       "    }\n",
       "\n",
       "    .dataframe thead th {\n",
       "        text-align: right;\n",
       "    }\n",
       "</style>\n",
       "<table border=\"1\" class=\"dataframe\">\n",
       "  <thead>\n",
       "    <tr style=\"text-align: right;\">\n",
       "      <th></th>\n",
       "      <th>alcohol</th>\n",
       "      <th>sugar</th>\n",
       "    </tr>\n",
       "  </thead>\n",
       "  <tbody>\n",
       "    <tr>\n",
       "      <th>count</th>\n",
       "      <td>1122.000000</td>\n",
       "      <td>1122.000000</td>\n",
       "    </tr>\n",
       "    <tr>\n",
       "      <th>mean</th>\n",
       "      <td>0.456397</td>\n",
       "      <td>-0.605782</td>\n",
       "    </tr>\n",
       "    <tr>\n",
       "      <th>std</th>\n",
       "      <td>0.903287</td>\n",
       "      <td>0.459740</td>\n",
       "    </tr>\n",
       "    <tr>\n",
       "      <th>min</th>\n",
       "      <td>-1.675754</td>\n",
       "      <td>-1.089453</td>\n",
       "    </tr>\n",
       "    <tr>\n",
       "      <th>25%</th>\n",
       "      <td>-0.218729</td>\n",
       "      <td>-0.945241</td>\n",
       "    </tr>\n",
       "    <tr>\n",
       "      <th>50%</th>\n",
       "      <td>0.368129</td>\n",
       "      <td>-0.821632</td>\n",
       "    </tr>\n",
       "    <tr>\n",
       "      <th>75%</th>\n",
       "      <td>1.157351</td>\n",
       "      <td>-0.285988</td>\n",
       "    </tr>\n",
       "    <tr>\n",
       "      <th>max</th>\n",
       "      <td>2.776268</td>\n",
       "      <td>1.423949</td>\n",
       "    </tr>\n",
       "  </tbody>\n",
       "</table>\n",
       "</div>"
      ],
      "text/plain": [
       "           alcohol        sugar\n",
       "count  1122.000000  1122.000000\n",
       "mean      0.456397    -0.605782\n",
       "std       0.903287     0.459740\n",
       "min      -1.675754    -1.089453\n",
       "25%      -0.218729    -0.945241\n",
       "50%       0.368129    -0.821632\n",
       "75%       1.157351    -0.285988\n",
       "max       2.776268     1.423949"
      ]
     },
     "execution_count": 12,
     "metadata": {},
     "output_type": "execute_result"
    }
   ],
   "source": [
    "#Summary2:\n",
    "Cluster2_test.describe()"
   ]
  }
 ],
 "metadata": {
  "kernelspec": {
   "display_name": "Python [conda env:root] *",
   "language": "python",
   "name": "conda-root-py"
  },
  "language_info": {
   "codemirror_mode": {
    "name": "ipython",
    "version": 3
   },
   "file_extension": ".py",
   "mimetype": "text/x-python",
   "name": "python",
   "nbconvert_exporter": "python",
   "pygments_lexer": "ipython3",
   "version": "3.8.13"
  }
 },
 "nbformat": 4,
 "nbformat_minor": 5
}
