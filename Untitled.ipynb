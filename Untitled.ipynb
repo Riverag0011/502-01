{
 "cells": [
  {
   "cell_type": "markdown",
   "id": "cab94204",
   "metadata": {},
   "source": [
    "# Module 2 Assignment"
   ]
  },
  {
   "cell_type": "markdown",
   "id": "90e317ff",
   "metadata": {},
   "source": [
    "### Gabi Rivera    ||   13Oct2022   ||   ADS501-01"
   ]
  },
  {
   "cell_type": "code",
   "execution_count": 4,
   "id": "1ee121ac",
   "metadata": {},
   "outputs": [
    {
     "data": {
      "text/plain": [
       "'/Users/gabirivera/Desktop/MSADS2/ADS502-01/Module2/Assignment'"
      ]
     },
     "execution_count": 4,
     "metadata": {},
     "output_type": "execute_result"
    }
   ],
   "source": [
    "import os\n",
    "os.getcwd()"
   ]
  },
  {
   "cell_type": "code",
   "execution_count": 5,
   "id": "d9be3dfc",
   "metadata": {},
   "outputs": [],
   "source": [
    "import pandas as pd\n",
    "import numpy as np\n",
    "import seaborn as sns\n",
    "import matplotlib.pyplot as plt"
   ]
  },
  {
   "cell_type": "markdown",
   "id": "c49318a7",
   "metadata": {},
   "source": [
    "### Data Science Using Python and R: Chapter 4 hands-on analysis"
   ]
  },
  {
   "cell_type": "markdown",
   "id": "ef913ce7",
   "metadata": {},
   "source": [
    "#### Question 21. What is the strength of each graph? Weakness?"
   ]
  },
  {
   "cell_type": "markdown",
   "id": "52e920f7",
   "metadata": {},
   "source": [
    "##### a. Bar graph of marital."
   ]
  },
  {
   "cell_type": "code",
   "execution_count": 6,
   "id": "23934c51",
   "metadata": {
    "scrolled": true
   },
   "outputs": [
    {
     "data": {
      "text/html": [
       "<div>\n",
       "<style scoped>\n",
       "    .dataframe tbody tr th:only-of-type {\n",
       "        vertical-align: middle;\n",
       "    }\n",
       "\n",
       "    .dataframe tbody tr th {\n",
       "        vertical-align: top;\n",
       "    }\n",
       "\n",
       "    .dataframe thead th {\n",
       "        text-align: right;\n",
       "    }\n",
       "</style>\n",
       "<table border=\"1\" class=\"dataframe\">\n",
       "  <thead>\n",
       "    <tr style=\"text-align: right;\">\n",
       "      <th></th>\n",
       "      <th>age</th>\n",
       "      <th>job</th>\n",
       "      <th>marital</th>\n",
       "      <th>education</th>\n",
       "      <th>default</th>\n",
       "      <th>housing</th>\n",
       "      <th>loan</th>\n",
       "      <th>contact</th>\n",
       "      <th>month</th>\n",
       "      <th>day_of_week</th>\n",
       "      <th>...</th>\n",
       "      <th>campaign</th>\n",
       "      <th>days_since_previous</th>\n",
       "      <th>previous</th>\n",
       "      <th>previous_outcome</th>\n",
       "      <th>emp.var.rate</th>\n",
       "      <th>cons.price.idx</th>\n",
       "      <th>cons.conf.idx</th>\n",
       "      <th>euribor3m</th>\n",
       "      <th>nr.employed</th>\n",
       "      <th>response</th>\n",
       "    </tr>\n",
       "  </thead>\n",
       "  <tbody>\n",
       "    <tr>\n",
       "      <th>0</th>\n",
       "      <td>56</td>\n",
       "      <td>housemaid</td>\n",
       "      <td>married</td>\n",
       "      <td>basic.4y</td>\n",
       "      <td>no</td>\n",
       "      <td>no</td>\n",
       "      <td>no</td>\n",
       "      <td>telephone</td>\n",
       "      <td>may</td>\n",
       "      <td>mon</td>\n",
       "      <td>...</td>\n",
       "      <td>1</td>\n",
       "      <td>999</td>\n",
       "      <td>0</td>\n",
       "      <td>nonexistent</td>\n",
       "      <td>1.1</td>\n",
       "      <td>93.994</td>\n",
       "      <td>-36.4</td>\n",
       "      <td>4.857</td>\n",
       "      <td>5191</td>\n",
       "      <td>no</td>\n",
       "    </tr>\n",
       "    <tr>\n",
       "      <th>1</th>\n",
       "      <td>57</td>\n",
       "      <td>services</td>\n",
       "      <td>married</td>\n",
       "      <td>high.school</td>\n",
       "      <td>unknown</td>\n",
       "      <td>no</td>\n",
       "      <td>no</td>\n",
       "      <td>telephone</td>\n",
       "      <td>may</td>\n",
       "      <td>mon</td>\n",
       "      <td>...</td>\n",
       "      <td>1</td>\n",
       "      <td>999</td>\n",
       "      <td>0</td>\n",
       "      <td>nonexistent</td>\n",
       "      <td>1.1</td>\n",
       "      <td>93.994</td>\n",
       "      <td>-36.4</td>\n",
       "      <td>4.857</td>\n",
       "      <td>5191</td>\n",
       "      <td>no</td>\n",
       "    </tr>\n",
       "    <tr>\n",
       "      <th>2</th>\n",
       "      <td>41</td>\n",
       "      <td>blue-collar</td>\n",
       "      <td>married</td>\n",
       "      <td>unknown</td>\n",
       "      <td>unknown</td>\n",
       "      <td>no</td>\n",
       "      <td>no</td>\n",
       "      <td>telephone</td>\n",
       "      <td>may</td>\n",
       "      <td>mon</td>\n",
       "      <td>...</td>\n",
       "      <td>1</td>\n",
       "      <td>999</td>\n",
       "      <td>0</td>\n",
       "      <td>nonexistent</td>\n",
       "      <td>1.1</td>\n",
       "      <td>93.994</td>\n",
       "      <td>-36.4</td>\n",
       "      <td>4.857</td>\n",
       "      <td>5191</td>\n",
       "      <td>no</td>\n",
       "    </tr>\n",
       "    <tr>\n",
       "      <th>3</th>\n",
       "      <td>25</td>\n",
       "      <td>services</td>\n",
       "      <td>single</td>\n",
       "      <td>high.school</td>\n",
       "      <td>no</td>\n",
       "      <td>yes</td>\n",
       "      <td>no</td>\n",
       "      <td>telephone</td>\n",
       "      <td>may</td>\n",
       "      <td>mon</td>\n",
       "      <td>...</td>\n",
       "      <td>1</td>\n",
       "      <td>999</td>\n",
       "      <td>0</td>\n",
       "      <td>nonexistent</td>\n",
       "      <td>1.1</td>\n",
       "      <td>93.994</td>\n",
       "      <td>-36.4</td>\n",
       "      <td>4.857</td>\n",
       "      <td>5191</td>\n",
       "      <td>no</td>\n",
       "    </tr>\n",
       "    <tr>\n",
       "      <th>4</th>\n",
       "      <td>29</td>\n",
       "      <td>blue-collar</td>\n",
       "      <td>single</td>\n",
       "      <td>high.school</td>\n",
       "      <td>no</td>\n",
       "      <td>no</td>\n",
       "      <td>yes</td>\n",
       "      <td>telephone</td>\n",
       "      <td>may</td>\n",
       "      <td>mon</td>\n",
       "      <td>...</td>\n",
       "      <td>1</td>\n",
       "      <td>999</td>\n",
       "      <td>0</td>\n",
       "      <td>nonexistent</td>\n",
       "      <td>1.1</td>\n",
       "      <td>93.994</td>\n",
       "      <td>-36.4</td>\n",
       "      <td>4.857</td>\n",
       "      <td>5191</td>\n",
       "      <td>no</td>\n",
       "    </tr>\n",
       "  </tbody>\n",
       "</table>\n",
       "<p>5 rows × 21 columns</p>\n",
       "</div>"
      ],
      "text/plain": [
       "   age          job  marital    education  default housing loan    contact  \\\n",
       "0   56    housemaid  married     basic.4y       no      no   no  telephone   \n",
       "1   57     services  married  high.school  unknown      no   no  telephone   \n",
       "2   41  blue-collar  married      unknown  unknown      no   no  telephone   \n",
       "3   25     services   single  high.school       no     yes   no  telephone   \n",
       "4   29  blue-collar   single  high.school       no      no  yes  telephone   \n",
       "\n",
       "  month day_of_week  ...  campaign  days_since_previous  previous  \\\n",
       "0   may         mon  ...         1                  999         0   \n",
       "1   may         mon  ...         1                  999         0   \n",
       "2   may         mon  ...         1                  999         0   \n",
       "3   may         mon  ...         1                  999         0   \n",
       "4   may         mon  ...         1                  999         0   \n",
       "\n",
       "   previous_outcome emp.var.rate  cons.price.idx  cons.conf.idx  euribor3m  \\\n",
       "0       nonexistent          1.1          93.994          -36.4      4.857   \n",
       "1       nonexistent          1.1          93.994          -36.4      4.857   \n",
       "2       nonexistent          1.1          93.994          -36.4      4.857   \n",
       "3       nonexistent          1.1          93.994          -36.4      4.857   \n",
       "4       nonexistent          1.1          93.994          -36.4      4.857   \n",
       "\n",
       "   nr.employed  response  \n",
       "0         5191        no  \n",
       "1         5191        no  \n",
       "2         5191        no  \n",
       "3         5191        no  \n",
       "4         5191        no  \n",
       "\n",
       "[5 rows x 21 columns]"
      ]
     },
     "execution_count": 6,
     "metadata": {},
     "output_type": "execute_result"
    }
   ],
   "source": [
    "bm_train= pd.read_csv('bank_marketing_training', sep = ',')\n",
    "bm_train.head(5)"
   ]
  },
  {
   "cell_type": "code",
   "execution_count": 7,
   "id": "0dcf41e4",
   "metadata": {
    "scrolled": true
   },
   "outputs": [
    {
     "data": {
      "text/plain": [
       "[Text(0.5, 1.0, 'Marital Status')]"
      ]
     },
     "execution_count": 7,
     "metadata": {},
     "output_type": "execute_result"
    },
    {
     "data": {
      "image/png": "[encoded data removed]",
      "text/plain": [
       "<Figure size 432x288 with 1 Axes>"
      ]
     },
     "metadata": {
      "needs_background": "light"
     },
     "output_type": "display_data"
    }
   ],
   "source": [
    "sns.countplot(x= bm_train[\"marital\"]).set(title='Marital Status')"
   ]
  },
  {
   "cell_type": "markdown",
   "id": "5de85267",
   "metadata": {},
   "source": [
    "##### b. Bar graph of marital, with overlay of response."
   ]
  },
  {
   "cell_type": "code",
   "execution_count": 8,
   "id": "f507cfb5",
   "metadata": {},
   "outputs": [],
   "source": [
    "mares = pd.crosstab(bm_train['marital'], bm_train['response'])"
   ]
  },
  {
   "cell_type": "code",
   "execution_count": 9,
   "id": "d44bf69a",
   "metadata": {
    "scrolled": false
   },
   "outputs": [
    {
     "data": {
      "text/plain": [
       "Text(0.5, 1.0, 'Marital Status With Response Overlayed')"
      ]
     },
     "execution_count": 9,
     "metadata": {},
     "output_type": "execute_result"
    },
    {
     "data": {
      "image/png": "[encoded data removed]",
      "text/plain": [
       "<Figure size 432x288 with 1 Axes>"
      ]
     },
     "metadata": {
      "needs_background": "light"
     },
     "output_type": "display_data"
    }
   ],
   "source": [
    "mares.plot(kind = 'bar', stacked = True)\n",
    "plt.title('Marital Status With Response Overlayed')"
   ]
  },
  {
   "cell_type": "markdown",
   "id": "ae2eb30e",
   "metadata": {},
   "source": [
    "##### c. Normalized bar graph of marital, with overlay of response."
   ]
  },
  {
   "cell_type": "code",
   "execution_count": 10,
   "id": "2c535d48",
   "metadata": {
    "scrolled": false
   },
   "outputs": [
    {
     "data": {
      "text/plain": [
       "Text(0.5, 1.0, 'Marital Status With Response Overlayed - Normalized')"
      ]
     },
     "execution_count": 10,
     "metadata": {},
     "output_type": "execute_result"
    },
    {
     "data": {
      "image/png": "[encoded data removed]",
      "text/plain": [
       "<Figure size 432x288 with 1 Axes>"
      ]
     },
     "metadata": {
      "needs_background": "light"
     },
     "output_type": "display_data"
    }
   ],
   "source": [
    "mares_norm = mares.div(mares.sum(1), axis = 0)\n",
    "\n",
    "mares_norm.plot(kind = 'bar', stacked = True)\n",
    "plt.title('Marital Status With Response Overlayed - Normalized')"
   ]
  },
  {
   "cell_type": "markdown",
   "id": "471e4bd1",
   "metadata": {},
   "source": [
    "#### 23. Do the following with the variables marital and response."
   ]
  },
  {
   "cell_type": "markdown",
   "id": "780e1ec0",
   "metadata": {},
   "source": [
    "##### a. Build a contingency table, being careful to have the correct variables representing the rows and columns. Report the counts and the column percentages."
   ]
  },
  {
   "cell_type": "code",
   "execution_count": 11,
   "id": "e510cd2a",
   "metadata": {
    "scrolled": true
   },
   "outputs": [
    {
     "data": {
      "text/html": [
       "<div>\n",
       "<style scoped>\n",
       "    .dataframe tbody tr th:only-of-type {\n",
       "        vertical-align: middle;\n",
       "    }\n",
       "\n",
       "    .dataframe tbody tr th {\n",
       "        vertical-align: top;\n",
       "    }\n",
       "\n",
       "    .dataframe thead th {\n",
       "        text-align: right;\n",
       "    }\n",
       "</style>\n",
       "<table border=\"1\" class=\"dataframe\">\n",
       "  <thead>\n",
       "    <tr style=\"text-align: right;\">\n",
       "      <th>marital</th>\n",
       "      <th>divorced</th>\n",
       "      <th>married</th>\n",
       "      <th>single</th>\n",
       "      <th>unknown</th>\n",
       "    </tr>\n",
       "    <tr>\n",
       "      <th>response</th>\n",
       "      <th></th>\n",
       "      <th></th>\n",
       "      <th></th>\n",
       "      <th></th>\n",
       "    </tr>\n",
       "  </thead>\n",
       "  <tbody>\n",
       "    <tr>\n",
       "      <th>no</th>\n",
       "      <td>89.79</td>\n",
       "      <td>90.07</td>\n",
       "      <td>85.99</td>\n",
       "      <td>87.72</td>\n",
       "    </tr>\n",
       "    <tr>\n",
       "      <th>yes</th>\n",
       "      <td>10.21</td>\n",
       "      <td>9.93</td>\n",
       "      <td>14.01</td>\n",
       "      <td>12.28</td>\n",
       "    </tr>\n",
       "  </tbody>\n",
       "</table>\n",
       "</div>"
      ],
      "text/plain": [
       "marital   divorced  married  single  unknown\n",
       "response                                    \n",
       "no           89.79    90.07   85.99    87.72\n",
       "yes          10.21     9.93   14.01    12.28"
      ]
     },
     "execution_count": 11,
     "metadata": {},
     "output_type": "execute_result"
    }
   ],
   "source": [
    "mares2 = pd.crosstab(bm_train['response'], bm_train['marital'])\n",
    "\n",
    "round(mares2.div(mares2.sum(0), axis = 1)*100, 2)"
   ]
  },
  {
   "cell_type": "markdown",
   "id": "bea7e5fa",
   "metadata": {},
   "source": [
    "#### 24. Repeat the previous exercise, this time reporting the row percentages. Explain the difference between the interpretation of this table and the previous contingency table."
   ]
  },
  {
   "cell_type": "code",
   "execution_count": 12,
   "id": "409b2abf",
   "metadata": {
    "scrolled": true
   },
   "outputs": [
    {
     "data": {
      "text/html": [
       "<div>\n",
       "<style scoped>\n",
       "    .dataframe tbody tr th:only-of-type {\n",
       "        vertical-align: middle;\n",
       "    }\n",
       "\n",
       "    .dataframe tbody tr th {\n",
       "        vertical-align: top;\n",
       "    }\n",
       "\n",
       "    .dataframe thead th {\n",
       "        text-align: right;\n",
       "    }\n",
       "</style>\n",
       "<table border=\"1\" class=\"dataframe\">\n",
       "  <thead>\n",
       "    <tr style=\"text-align: right;\">\n",
       "      <th>response</th>\n",
       "      <th>no</th>\n",
       "      <th>yes</th>\n",
       "    </tr>\n",
       "    <tr>\n",
       "      <th>marital</th>\n",
       "      <th></th>\n",
       "      <th></th>\n",
       "    </tr>\n",
       "  </thead>\n",
       "  <tbody>\n",
       "    <tr>\n",
       "      <th>divorced</th>\n",
       "      <td>11.5</td>\n",
       "      <td>10.4</td>\n",
       "    </tr>\n",
       "    <tr>\n",
       "      <th>married</th>\n",
       "      <td>61.0</td>\n",
       "      <td>53.8</td>\n",
       "    </tr>\n",
       "    <tr>\n",
       "      <th>single</th>\n",
       "      <td>27.3</td>\n",
       "      <td>35.5</td>\n",
       "    </tr>\n",
       "    <tr>\n",
       "      <th>unknown</th>\n",
       "      <td>0.2</td>\n",
       "      <td>0.2</td>\n",
       "    </tr>\n",
       "  </tbody>\n",
       "</table>\n",
       "</div>"
      ],
      "text/plain": [
       "response    no   yes\n",
       "marital             \n",
       "divorced  11.5  10.4\n",
       "married   61.0  53.8\n",
       "single    27.3  35.5\n",
       "unknown    0.2   0.2"
      ]
     },
     "execution_count": 12,
     "metadata": {},
     "output_type": "execute_result"
    }
   ],
   "source": [
    "mares2 = pd.crosstab(bm_train['marital'], bm_train['response'])\n",
    "\n",
    "round(mares2.div(mares2.sum(0), axis = 1)*100, 1)"
   ]
  },
  {
   "cell_type": "markdown",
   "id": "04843460",
   "metadata": {},
   "source": [
    "#### 25. Produce the following graphs. What is the strength of each graph? Weakness?"
   ]
  },
  {
   "cell_type": "markdown",
   "id": "caddc56d",
   "metadata": {},
   "source": [
    "##### a. Histogram of duration."
   ]
  },
  {
   "cell_type": "code",
   "execution_count": 13,
   "id": "13dcc2e7",
   "metadata": {
    "scrolled": true
   },
   "outputs": [
    {
     "data": {
      "text/plain": [
       "[Text(0.5, 1.0, 'Marital Status')]"
      ]
     },
     "execution_count": 13,
     "metadata": {},
     "output_type": "execute_result"
    },
    {
     "data": {
      "image/png": "[encoded data removed]",
      "text/plain": [
       "<Figure size 432x288 with 1 Axes>"
      ]
     },
     "metadata": {
      "needs_background": "light"
     },
     "output_type": "display_data"
    }
   ],
   "source": [
    "sns.histplot(x= bm_train[\"duration\"]).set(title='Marital Status')"
   ]
  },
  {
   "cell_type": "markdown",
   "id": "f297d90a",
   "metadata": {},
   "source": [
    "##### b. Histogram of duration, with overlay of response."
   ]
  },
  {
   "cell_type": "code",
   "execution_count": 14,
   "id": "04d1627f",
   "metadata": {
    "scrolled": true
   },
   "outputs": [
    {
     "data": {
      "image/png": "[encoded data removed]",
      "text/plain": [
       "<Figure size 432x288 with 1 Axes>"
      ]
     },
     "metadata": {
      "needs_background": "light"
     },
     "output_type": "display_data"
    }
   ],
   "source": [
    "bm_t_y = bm_train[bm_train.response == \"yes\"]['duration']\n",
    "bm_t_n = bm_train[bm_train.response == \"no\"]['duration']\n",
    "\n",
    "plt.hist([bm_t_y, bm_t_n], bins = 100, stacked = True)\n",
    "plt.legend(['Response = Yes', 'Response = No'])\n",
    "plt.title('Duration with Response Overlay')\n",
    "plt.xlabel('Duration') \n",
    "plt.ylabel('Frequency') \n",
    "plt.show()"
   ]
  },
  {
   "cell_type": "markdown",
   "id": "f650dfc8",
   "metadata": {},
   "source": [
    "##### c. Normalized histogram of duration, with overlay of response.\n"
   ]
  },
  {
   "cell_type": "code",
   "execution_count": 15,
   "id": "d0d56ffb",
   "metadata": {
    "scrolled": true
   },
   "outputs": [
    {
     "data": {
      "image/png": "[encoded data removed]",
      "text/plain": [
       "<Figure size 432x288 with 1 Axes>"
      ]
     },
     "metadata": {
      "needs_background": "light"
     },
     "output_type": "display_data"
    }
   ],
   "source": [
    "(n, bins, patches) = plt.hist([bm_t_y, bm_t_n], bins =100, stacked = True)"
   ]
  },
  {
   "cell_type": "code",
   "execution_count": 16,
   "id": "014e7d5b",
   "metadata": {},
   "outputs": [],
   "source": [
    "n_table = np.column_stack((n[0], n[1]))"
   ]
  },
  {
   "cell_type": "code",
   "execution_count": 17,
   "id": "65a97383",
   "metadata": {},
   "outputs": [
    {
     "name": "stderr",
     "output_type": "stream",
     "text": [
      "/var/folders/l0/20n3x1215hz57pwrxyv96gvr0000gn/T/ipykernel_30632/4212961245.py:1: RuntimeWarning: invalid value encountered in true_divide\n",
      "  n_norm = n_table / n_table.sum(axis=1)[:,None]\n"
     ]
    }
   ],
   "source": [
    "n_norm = n_table / n_table.sum(axis=1)[:,None]"
   ]
  },
  {
   "cell_type": "code",
   "execution_count": 18,
   "id": "b962e61d",
   "metadata": {
    "scrolled": true
   },
   "outputs": [],
   "source": [
    "ourbins = np.column_stack((bins[0:100], bins[1:101]))"
   ]
  },
  {
   "cell_type": "code",
   "execution_count": 19,
   "id": "8477457e",
   "metadata": {
    "scrolled": true
   },
   "outputs": [
    {
     "data": {
      "image/png": "[encoded data removed]",
      "text/plain": [
       "<Figure size 432x288 with 1 Axes>"
      ]
     },
     "metadata": {
      "needs_background": "light"
     },
     "output_type": "display_data"
    }
   ],
   "source": [
    "p1 = plt.bar(x = ourbins[:,0], height = n_norm[:,0],\n",
    "             width = ourbins[:, 1] - ourbins[:, 0])\n",
    "\n",
    "p2 = plt.bar(x = ourbins[:,0], height = n_norm[:,1],\n",
    "             width = ourbins[:, 1] - ourbins[:, 0], \n",
    "             bottom = n_norm[:,0])"
   ]
  },
  {
   "cell_type": "markdown",
   "id": "6e2d77e2",
   "metadata": {},
   "source": [
    "### Data Science Using Python and R: Chapter 6 hands-on analysis"
   ]
  },
  {
   "cell_type": "markdown",
   "id": "cdc8e11c",
   "metadata": {},
   "source": [
    "15. Develop a CART model using the test data set that utilizes the same target and predictor variables. Visualize the decision tree.Compare the decision trees. Does the test data result match the training data result?"
   ]
  },
  {
   "cell_type": "code",
   "execution_count": 20,
   "id": "94fe9110",
   "metadata": {
    "scrolled": true
   },
   "outputs": [
    {
     "data": {
      "text/html": [
       "<div>\n",
       "<style scoped>\n",
       "    .dataframe tbody tr th:only-of-type {\n",
       "        vertical-align: middle;\n",
       "    }\n",
       "\n",
       "    .dataframe tbody tr th {\n",
       "        vertical-align: top;\n",
       "    }\n",
       "\n",
       "    .dataframe thead th {\n",
       "        text-align: right;\n",
       "    }\n",
       "</style>\n",
       "<table border=\"1\" class=\"dataframe\">\n",
       "  <thead>\n",
       "    <tr style=\"text-align: right;\">\n",
       "      <th></th>\n",
       "      <th>Marital status</th>\n",
       "      <th>Income</th>\n",
       "      <th>Cap_Gains_Losses</th>\n",
       "    </tr>\n",
       "  </thead>\n",
       "  <tbody>\n",
       "    <tr>\n",
       "      <th>0</th>\n",
       "      <td>Never-married</td>\n",
       "      <td>&lt;=50K</td>\n",
       "      <td>0.02174</td>\n",
       "    </tr>\n",
       "    <tr>\n",
       "      <th>1</th>\n",
       "      <td>Divorced</td>\n",
       "      <td>&lt;=50K</td>\n",
       "      <td>0.00000</td>\n",
       "    </tr>\n",
       "    <tr>\n",
       "      <th>2</th>\n",
       "      <td>Married</td>\n",
       "      <td>&lt;=50K</td>\n",
       "      <td>0.00000</td>\n",
       "    </tr>\n",
       "    <tr>\n",
       "      <th>3</th>\n",
       "      <td>Married</td>\n",
       "      <td>&lt;=50K</td>\n",
       "      <td>0.00000</td>\n",
       "    </tr>\n",
       "    <tr>\n",
       "      <th>4</th>\n",
       "      <td>Married</td>\n",
       "      <td>&lt;=50K</td>\n",
       "      <td>0.00000</td>\n",
       "    </tr>\n",
       "  </tbody>\n",
       "</table>\n",
       "</div>"
      ],
      "text/plain": [
       "  Marital status Income  Cap_Gains_Losses\n",
       "0  Never-married  <=50K           0.02174\n",
       "1       Divorced  <=50K           0.00000\n",
       "2        Married  <=50K           0.00000\n",
       "3        Married  <=50K           0.00000\n",
       "4        Married  <=50K           0.00000"
      ]
     },
     "execution_count": 20,
     "metadata": {},
     "output_type": "execute_result"
    }
   ],
   "source": [
    "adult_tr= pd.read_csv('adult_ch6_training', sep = ',')\n",
    "adult_tr.head(5)"
   ]
  },
  {
   "cell_type": "code",
   "execution_count": 21,
   "id": "6e86749c",
   "metadata": {},
   "outputs": [],
   "source": [
    "import statsmodels.tools.tools as stattools\n",
    "from sklearn.tree import DecisionTreeClassifier, export_graphviz\n",
    "from sklearn import tree"
   ]
  },
  {
   "cell_type": "code",
   "execution_count": 22,
   "id": "59679200",
   "metadata": {},
   "outputs": [],
   "source": [
    "y = adult_tr[['Income']]"
   ]
  },
  {
   "cell_type": "code",
   "execution_count": 23,
   "id": "6fd99fbe",
   "metadata": {
    "scrolled": true
   },
   "outputs": [
    {
     "name": "stderr",
     "output_type": "stream",
     "text": [
      "/Users/gabirivera/opt/anaconda3/lib/python3.8/site-packages/statsmodels/tools/tools.py:152: FutureWarning: categorical is deprecated. Use pandas Categorical to represent categorical data and can get_dummies to construct dummy arrays. It will be removed after release 0.13.\n",
      "  warnings.warn(\n"
     ]
    }
   ],
   "source": [
    "mar_np = np.array(adult_tr['Marital status'])\n",
    "\n",
    "(mar_cat, mar_cat_dict) = stattools.categorical(mar_np, drop=True, dictnames = True)\n",
    "\n",
    "mar_cat_pd = pd.DataFrame(mar_cat)\n",
    "\n",
    "X = pd.concat((adult_tr[['Cap_Gains_Losses']], mar_cat_pd), axis = 1)\n",
    "\n",
    "mar_cat_dict\n",
    "\n",
    "\n",
    "X_names = [\"Cap_Gains_Losses\", \"Divorced\", \"Married\", \"Never-married\",\n",
    "           \"Separated\", \"Widowed\"]\n",
    "\n",
    "y_names = [\"<=50K\", \">50K\"]"
   ]
  },
  {
   "cell_type": "code",
   "execution_count": 24,
   "id": "798e6916",
   "metadata": {
    "scrolled": false
   },
   "outputs": [
    {
     "name": "stderr",
     "output_type": "stream",
     "text": [
      "/Users/gabirivera/opt/anaconda3/lib/python3.8/site-packages/sklearn/utils/validation.py:1858: FutureWarning: Feature names only support names that are all strings. Got feature names with dtypes: ['int', 'str']. An error will be raised in 1.2.\n",
      "  warnings.warn(\n"
     ]
    }
   ],
   "source": [
    "clf = tree.DecisionTreeClassifier(criterion = \"gini\", max_leaf_nodes=5)\n",
    "clf = clf.fit(X, y)"
   ]
  },
  {
   "cell_type": "code",
   "execution_count": 25,
   "id": "ec03866e",
   "metadata": {
    "scrolled": false
   },
   "outputs": [
    {
     "data": {
      "image/svg+xml": [
       "<?xml version=\"1.0\" encoding=\"UTF-8\" standalone=\"no\"?>\n",
       "<!DOCTYPE svg PUBLIC \"-//W3C//DTD SVG 1.1//EN\"\n",
       " \"http://www.w3.org/Graphics/SVG/1.1/DTD/svg11.dtd\">\n",
       "<!-- Generated by graphviz version 2.50.0 (0)\n",
       " -->\n",
       "<!-- Title: Tree Pages: 1 -->\n",
       "<svg width=\"673pt\" height=\"433pt\"\n",
       " viewBox=\"0.00 0.00 673.00 433.00\" xmlns=\"http://www.w3.org/2000/svg\" xmlns:xlink=\"http://www.w3.org/1999/xlink\">\n",
       "<g id=\"graph0\" class=\"graph\" transform=\"scale(1 1) rotate(0) translate(4 429)\">\n",
       "<title>Tree</title>\n",
       "<polygon fill=\"white\" stroke=\"transparent\" points=\"-4,4 -4,-429 669,-429 669,4 -4,4\"/>\n",
       "<!-- 0 -->\n",
       "<g id=\"node1\" class=\"node\">\n",
       "<title>0</title>\n",
       "<polygon fill=\"none\" stroke=\"black\" points=\"418.5,-425 271.5,-425 271.5,-342 418.5,-342 418.5,-425\"/>\n",
       "<text text-anchor=\"middle\" x=\"345\" y=\"-409.8\" font-family=\"Helvetica,sans-Serif\" font-size=\"14.00\">Married &lt;= 0.5</text>\n",
       "<text text-anchor=\"middle\" x=\"345\" y=\"-394.8\" font-family=\"Helvetica,sans-Serif\" font-size=\"14.00\">gini = 0.364</text>\n",
       "<text text-anchor=\"middle\" x=\"345\" y=\"-379.8\" font-family=\"Helvetica,sans-Serif\" font-size=\"14.00\">samples = 18761</text>\n",
       "<text text-anchor=\"middle\" x=\"345\" y=\"-364.8\" font-family=\"Helvetica,sans-Serif\" font-size=\"14.00\">value = [14271, 4490]</text>\n",
       "<text text-anchor=\"middle\" x=\"345\" y=\"-349.8\" font-family=\"Helvetica,sans-Serif\" font-size=\"14.00\">class = &lt;=50K</text>\n",
       "</g>\n",
       "<!-- 1 -->\n",
       "<g id=\"node2\" class=\"node\">\n",
       "<title>1</title>\n",
       "<polygon fill=\"none\" stroke=\"black\" points=\"336.5,-306 143.5,-306 143.5,-223 336.5,-223 336.5,-306\"/>\n",
       "<text text-anchor=\"middle\" x=\"240\" y=\"-290.8\" font-family=\"Helvetica,sans-Serif\" font-size=\"14.00\">Cap_Gains_Losses &lt;= 0.047</text>\n",
       "<text text-anchor=\"middle\" x=\"240\" y=\"-275.8\" font-family=\"Helvetica,sans-Serif\" font-size=\"14.00\">gini = 0.119</text>\n",
       "<text text-anchor=\"middle\" x=\"240\" y=\"-260.8\" font-family=\"Helvetica,sans-Serif\" font-size=\"14.00\">samples = 9891</text>\n",
       "<text text-anchor=\"middle\" x=\"240\" y=\"-245.8\" font-family=\"Helvetica,sans-Serif\" font-size=\"14.00\">value = [9260, 631]</text>\n",
       "<text text-anchor=\"middle\" x=\"240\" y=\"-230.8\" font-family=\"Helvetica,sans-Serif\" font-size=\"14.00\">class = &lt;=50K</text>\n",
       "</g>\n",
       "<!-- 0&#45;&gt;1 -->\n",
       "<g id=\"edge1\" class=\"edge\">\n",
       "<title>0&#45;&gt;1</title>\n",
       "<path fill=\"none\" stroke=\"black\" d=\"M308.57,-341.91C300.35,-332.74 291.54,-322.93 283.07,-313.49\"/>\n",
       "<polygon fill=\"black\" stroke=\"black\" points=\"285.65,-311.13 276.36,-306.02 280.44,-315.8 285.65,-311.13\"/>\n",
       "<text text-anchor=\"middle\" x=\"275.02\" y=\"-327.28\" font-family=\"Helvetica,sans-Serif\" font-size=\"14.00\">True</text>\n",
       "</g>\n",
       "<!-- 2 -->\n",
       "<g id=\"node7\" class=\"node\">\n",
       "<title>2</title>\n",
       "<polygon fill=\"none\" stroke=\"black\" points=\"547.5,-306 354.5,-306 354.5,-223 547.5,-223 547.5,-306\"/>\n",
       "<text text-anchor=\"middle\" x=\"451\" y=\"-290.8\" font-family=\"Helvetica,sans-Serif\" font-size=\"14.00\">Cap_Gains_Losses &lt;= 0.051</text>\n",
       "<text text-anchor=\"middle\" x=\"451\" y=\"-275.8\" font-family=\"Helvetica,sans-Serif\" font-size=\"14.00\">gini = 0.492</text>\n",
       "<text text-anchor=\"middle\" x=\"451\" y=\"-260.8\" font-family=\"Helvetica,sans-Serif\" font-size=\"14.00\">samples = 8870</text>\n",
       "<text text-anchor=\"middle\" x=\"451\" y=\"-245.8\" font-family=\"Helvetica,sans-Serif\" font-size=\"14.00\">value = [5011, 3859]</text>\n",
       "<text text-anchor=\"middle\" x=\"451\" y=\"-230.8\" font-family=\"Helvetica,sans-Serif\" font-size=\"14.00\">class = &lt;=50K</text>\n",
       "</g>\n",
       "<!-- 0&#45;&gt;2 -->\n",
       "<g id=\"edge6\" class=\"edge\">\n",
       "<title>0&#45;&gt;2</title>\n",
       "<path fill=\"none\" stroke=\"black\" d=\"M381.78,-341.91C390.08,-332.74 398.97,-322.93 407.52,-313.49\"/>\n",
       "<polygon fill=\"black\" stroke=\"black\" points=\"410.17,-315.78 414.29,-306.02 404.98,-311.08 410.17,-315.78\"/>\n",
       "<text text-anchor=\"middle\" x=\"415.52\" y=\"-327.29\" font-family=\"Helvetica,sans-Serif\" font-size=\"14.00\">False</text>\n",
       "</g>\n",
       "<!-- 5 -->\n",
       "<g id=\"node3\" class=\"node\">\n",
       "<title>5</title>\n",
       "<polygon fill=\"none\" stroke=\"black\" points=\"132,-179.5 0,-179.5 0,-111.5 132,-111.5 132,-179.5\"/>\n",
       "<text text-anchor=\"middle\" x=\"66\" y=\"-164.3\" font-family=\"Helvetica,sans-Serif\" font-size=\"14.00\">gini = 0.083</text>\n",
       "<text text-anchor=\"middle\" x=\"66\" y=\"-149.3\" font-family=\"Helvetica,sans-Serif\" font-size=\"14.00\">samples = 9342</text>\n",
       "<text text-anchor=\"middle\" x=\"66\" y=\"-134.3\" font-family=\"Helvetica,sans-Serif\" font-size=\"14.00\">value = [8938, 404]</text>\n",
       "<text text-anchor=\"middle\" x=\"66\" y=\"-119.3\" font-family=\"Helvetica,sans-Serif\" font-size=\"14.00\">class = &lt;=50K</text>\n",
       "</g>\n",
       "<!-- 1&#45;&gt;5 -->\n",
       "<g id=\"edge2\" class=\"edge\">\n",
       "<title>1&#45;&gt;5</title>\n",
       "<path fill=\"none\" stroke=\"black\" d=\"M179.63,-222.91C161.58,-210.77 141.84,-197.49 123.94,-185.46\"/>\n",
       "<polygon fill=\"black\" stroke=\"black\" points=\"125.58,-182.34 115.33,-179.67 121.67,-188.15 125.58,-182.34\"/>\n",
       "</g>\n",
       "<!-- 6 -->\n",
       "<g id=\"node4\" class=\"node\">\n",
       "<title>6</title>\n",
       "<polygon fill=\"none\" stroke=\"black\" points=\"343.5,-187 150.5,-187 150.5,-104 343.5,-104 343.5,-187\"/>\n",
       "<text text-anchor=\"middle\" x=\"247\" y=\"-171.8\" font-family=\"Helvetica,sans-Serif\" font-size=\"14.00\">Cap_Gains_Losses &lt;= 0.293</text>\n",
       "<text text-anchor=\"middle\" x=\"247\" y=\"-156.8\" font-family=\"Helvetica,sans-Serif\" font-size=\"14.00\">gini = 0.485</text>\n",
       "<text text-anchor=\"middle\" x=\"247\" y=\"-141.8\" font-family=\"Helvetica,sans-Serif\" font-size=\"14.00\">samples = 549</text>\n",
       "<text text-anchor=\"middle\" x=\"247\" y=\"-126.8\" font-family=\"Helvetica,sans-Serif\" font-size=\"14.00\">value = [322, 227]</text>\n",
       "<text text-anchor=\"middle\" x=\"247\" y=\"-111.8\" font-family=\"Helvetica,sans-Serif\" font-size=\"14.00\">class = &lt;=50K</text>\n",
       "</g>\n",
       "<!-- 1&#45;&gt;6 -->\n",
       "<g id=\"edge3\" class=\"edge\">\n",
       "<title>1&#45;&gt;6</title>\n",
       "<path fill=\"none\" stroke=\"black\" d=\"M242.43,-222.91C242.93,-214.56 243.46,-205.67 243.98,-197.02\"/>\n",
       "<polygon fill=\"black\" stroke=\"black\" points=\"247.47,-197.21 244.58,-187.02 240.48,-196.79 247.47,-197.21\"/>\n",
       "</g>\n",
       "<!-- 7 -->\n",
       "<g id=\"node5\" class=\"node\">\n",
       "<title>7</title>\n",
       "<polygon fill=\"none\" stroke=\"black\" points=\"238.5,-68 121.5,-68 121.5,0 238.5,0 238.5,-68\"/>\n",
       "<text text-anchor=\"middle\" x=\"180\" y=\"-52.8\" font-family=\"Helvetica,sans-Serif\" font-size=\"14.00\">gini = 0.411</text>\n",
       "<text text-anchor=\"middle\" x=\"180\" y=\"-37.8\" font-family=\"Helvetica,sans-Serif\" font-size=\"14.00\">samples = 235</text>\n",
       "<text text-anchor=\"middle\" x=\"180\" y=\"-22.8\" font-family=\"Helvetica,sans-Serif\" font-size=\"14.00\">value = [68, 167]</text>\n",
       "<text text-anchor=\"middle\" x=\"180\" y=\"-7.8\" font-family=\"Helvetica,sans-Serif\" font-size=\"14.00\">class = &gt;50K</text>\n",
       "</g>\n",
       "<!-- 6&#45;&gt;7 -->\n",
       "<g id=\"edge4\" class=\"edge\">\n",
       "<title>6&#45;&gt;7</title>\n",
       "<path fill=\"none\" stroke=\"black\" d=\"M222.05,-103.73C216.69,-94.97 211.02,-85.7 205.64,-76.91\"/>\n",
       "<polygon fill=\"black\" stroke=\"black\" points=\"208.58,-75 200.38,-68.3 202.61,-78.66 208.58,-75\"/>\n",
       "</g>\n",
       "<!-- 8 -->\n",
       "<g id=\"node6\" class=\"node\">\n",
       "<title>8</title>\n",
       "<polygon fill=\"none\" stroke=\"black\" points=\"373.5,-68 256.5,-68 256.5,0 373.5,0 373.5,-68\"/>\n",
       "<text text-anchor=\"middle\" x=\"315\" y=\"-52.8\" font-family=\"Helvetica,sans-Serif\" font-size=\"14.00\">gini = 0.309</text>\n",
       "<text text-anchor=\"middle\" x=\"315\" y=\"-37.8\" font-family=\"Helvetica,sans-Serif\" font-size=\"14.00\">samples = 314</text>\n",
       "<text text-anchor=\"middle\" x=\"315\" y=\"-22.8\" font-family=\"Helvetica,sans-Serif\" font-size=\"14.00\">value = [254, 60]</text>\n",
       "<text text-anchor=\"middle\" x=\"315\" y=\"-7.8\" font-family=\"Helvetica,sans-Serif\" font-size=\"14.00\">class = &lt;=50K</text>\n",
       "</g>\n",
       "<!-- 6&#45;&gt;8 -->\n",
       "<g id=\"edge5\" class=\"edge\">\n",
       "<title>6&#45;&gt;8</title>\n",
       "<path fill=\"none\" stroke=\"black\" d=\"M272.32,-103.73C277.76,-94.97 283.51,-85.7 288.98,-76.91\"/>\n",
       "<polygon fill=\"black\" stroke=\"black\" points=\"292.02,-78.64 294.32,-68.3 286.07,-74.95 292.02,-78.64\"/>\n",
       "</g>\n",
       "<!-- 3 -->\n",
       "<g id=\"node8\" class=\"node\">\n",
       "<title>3</title>\n",
       "<polygon fill=\"none\" stroke=\"black\" points=\"515,-179.5 375,-179.5 375,-111.5 515,-111.5 515,-179.5\"/>\n",
       "<text text-anchor=\"middle\" x=\"445\" y=\"-164.3\" font-family=\"Helvetica,sans-Serif\" font-size=\"14.00\">gini = 0.465</text>\n",
       "<text text-anchor=\"middle\" x=\"445\" y=\"-149.3\" font-family=\"Helvetica,sans-Serif\" font-size=\"14.00\">samples = 7632</text>\n",
       "<text text-anchor=\"middle\" x=\"445\" y=\"-134.3\" font-family=\"Helvetica,sans-Serif\" font-size=\"14.00\">value = [4821, 2811]</text>\n",
       "<text text-anchor=\"middle\" x=\"445\" y=\"-119.3\" font-family=\"Helvetica,sans-Serif\" font-size=\"14.00\">class = &lt;=50K</text>\n",
       "</g>\n",
       "<!-- 2&#45;&gt;3 -->\n",
       "<g id=\"edge7\" class=\"edge\">\n",
       "<title>2&#45;&gt;3</title>\n",
       "<path fill=\"none\" stroke=\"black\" d=\"M448.92,-222.91C448.37,-212.2 447.78,-200.62 447.22,-189.78\"/>\n",
       "<polygon fill=\"black\" stroke=\"black\" points=\"450.71,-189.47 446.7,-179.67 443.72,-189.83 450.71,-189.47\"/>\n",
       "</g>\n",
       "<!-- 4 -->\n",
       "<g id=\"node9\" class=\"node\">\n",
       "<title>4</title>\n",
       "<polygon fill=\"none\" stroke=\"black\" points=\"665,-179.5 533,-179.5 533,-111.5 665,-111.5 665,-179.5\"/>\n",
       "<text text-anchor=\"middle\" x=\"599\" y=\"-164.3\" font-family=\"Helvetica,sans-Serif\" font-size=\"14.00\">gini = 0.26</text>\n",
       "<text text-anchor=\"middle\" x=\"599\" y=\"-149.3\" font-family=\"Helvetica,sans-Serif\" font-size=\"14.00\">samples = 1238</text>\n",
       "<text text-anchor=\"middle\" x=\"599\" y=\"-134.3\" font-family=\"Helvetica,sans-Serif\" font-size=\"14.00\">value = [190, 1048]</text>\n",
       "<text text-anchor=\"middle\" x=\"599\" y=\"-119.3\" font-family=\"Helvetica,sans-Serif\" font-size=\"14.00\">class = &gt;50K</text>\n",
       "</g>\n",
       "<!-- 2&#45;&gt;4 -->\n",
       "<g id=\"edge8\" class=\"edge\">\n",
       "<title>2&#45;&gt;4</title>\n",
       "<path fill=\"none\" stroke=\"black\" d=\"M502.35,-222.91C517.42,-210.99 533.89,-197.98 548.88,-186.12\"/>\n",
       "<polygon fill=\"black\" stroke=\"black\" points=\"551.37,-188.61 557.05,-179.67 547.03,-183.12 551.37,-188.61\"/>\n",
       "</g>\n",
       "</g>\n",
       "</svg>\n"
      ],
      "text/plain": [
       "<graphviz.sources.Source at 0x7fd3421a81f0>"
      ]
     },
     "execution_count": 25,
     "metadata": {},
     "output_type": "execute_result"
    }
   ],
   "source": [
    "import graphviz \n",
    "\n",
    "\n",
    "dot_data = tree.export_graphviz(clf, out_file=None, feature_names= X_names,\n",
    "                                class_names= y_names)  \n",
    "\n",
    "graph = graphviz.Source(dot_data)  \n",
    "graph"
   ]
  },
  {
   "cell_type": "markdown",
   "id": "82a56182",
   "metadata": {},
   "source": [
    "#### 15. Develop a CART model using the test data set that utilizes the same target and predictor variables. Visualize the decision tree.Compare the decision trees. Does the test data result match the training data result?"
   ]
  },
  {
   "cell_type": "code",
   "execution_count": 26,
   "id": "99bd3885",
   "metadata": {},
   "outputs": [
    {
     "data": {
      "text/html": [
       "<div>\n",
       "<style scoped>\n",
       "    .dataframe tbody tr th:only-of-type {\n",
       "        vertical-align: middle;\n",
       "    }\n",
       "\n",
       "    .dataframe tbody tr th {\n",
       "        vertical-align: top;\n",
       "    }\n",
       "\n",
       "    .dataframe thead th {\n",
       "        text-align: right;\n",
       "    }\n",
       "</style>\n",
       "<table border=\"1\" class=\"dataframe\">\n",
       "  <thead>\n",
       "    <tr style=\"text-align: right;\">\n",
       "      <th></th>\n",
       "      <th>Marital status</th>\n",
       "      <th>Income</th>\n",
       "      <th>Cap_Gains_Losses</th>\n",
       "    </tr>\n",
       "  </thead>\n",
       "  <tbody>\n",
       "    <tr>\n",
       "      <th>0</th>\n",
       "      <td>Married</td>\n",
       "      <td>&lt;=50K</td>\n",
       "      <td>0.000000</td>\n",
       "    </tr>\n",
       "    <tr>\n",
       "      <th>1</th>\n",
       "      <td>Married</td>\n",
       "      <td>&gt;50K</td>\n",
       "      <td>0.051781</td>\n",
       "    </tr>\n",
       "    <tr>\n",
       "      <th>2</th>\n",
       "      <td>Never-married</td>\n",
       "      <td>&lt;=50K</td>\n",
       "      <td>0.000000</td>\n",
       "    </tr>\n",
       "    <tr>\n",
       "      <th>3</th>\n",
       "      <td>Divorced</td>\n",
       "      <td>&gt;50K</td>\n",
       "      <td>0.000000</td>\n",
       "    </tr>\n",
       "    <tr>\n",
       "      <th>4</th>\n",
       "      <td>Married</td>\n",
       "      <td>&gt;50K</td>\n",
       "      <td>0.000000</td>\n",
       "    </tr>\n",
       "  </tbody>\n",
       "</table>\n",
       "</div>"
      ],
      "text/plain": [
       "  Marital status Income  Cap_Gains_Losses\n",
       "0        Married  <=50K          0.000000\n",
       "1        Married   >50K          0.051781\n",
       "2  Never-married  <=50K          0.000000\n",
       "3       Divorced   >50K          0.000000\n",
       "4        Married   >50K          0.000000"
      ]
     },
     "execution_count": 26,
     "metadata": {},
     "output_type": "execute_result"
    }
   ],
   "source": [
    "adult_ts= pd.read_csv('adult_ch6_test', sep = ',')\n",
    "adult_ts.head(5)"
   ]
  },
  {
   "cell_type": "code",
   "execution_count": 27,
   "id": "ed6e4b53",
   "metadata": {},
   "outputs": [],
   "source": [
    "y1 = adult_ts[['Income']]"
   ]
  },
  {
   "cell_type": "code",
   "execution_count": 28,
   "id": "df8db220",
   "metadata": {},
   "outputs": [
    {
     "name": "stderr",
     "output_type": "stream",
     "text": [
      "/Users/gabirivera/opt/anaconda3/lib/python3.8/site-packages/statsmodels/tools/tools.py:152: FutureWarning: categorical is deprecated. Use pandas Categorical to represent categorical data and can get_dummies to construct dummy arrays. It will be removed after release 0.13.\n",
      "  warnings.warn(\n"
     ]
    },
    {
     "data": {
      "text/plain": [
       "{0: 'Divorced', 1: 'Married', 2: 'Never-married', 3: 'Separated', 4: 'Widowed'}"
      ]
     },
     "execution_count": 28,
     "metadata": {},
     "output_type": "execute_result"
    }
   ],
   "source": [
    "mar_np1 = np.array(adult_ts['Marital status'])\n",
    "\n",
    "(mar_cat1, mar_cat_dict1) = stattools.categorical(mar_np1, drop=True, dictnames = True)\n",
    "\n",
    "mar_cat_pd1 = pd.DataFrame(mar_cat1)\n",
    "\n",
    "X1 = pd.concat((adult_ts[['Cap_Gains_Losses']], mar_cat_pd1), axis = 1)\n",
    "\n",
    "mar_cat_dict1"
   ]
  },
  {
   "cell_type": "code",
   "execution_count": 29,
   "id": "f5143d91",
   "metadata": {},
   "outputs": [],
   "source": [
    "X1_names = [\"Cap_Gains_Losses\", \"Divorced\", \"Married\", \"Never-married\",\n",
    "           \"Separated\", \"Widowed\"]\n",
    "\n",
    "y1_names = [\"<=50K\", \">50K\"]"
   ]
  },
  {
   "cell_type": "code",
   "execution_count": 30,
   "id": "f829825c",
   "metadata": {
    "scrolled": true
   },
   "outputs": [
    {
     "name": "stderr",
     "output_type": "stream",
     "text": [
      "/Users/gabirivera/opt/anaconda3/lib/python3.8/site-packages/sklearn/utils/validation.py:1858: FutureWarning: Feature names only support names that are all strings. Got feature names with dtypes: ['int', 'str']. An error will be raised in 1.2.\n",
      "  warnings.warn(\n"
     ]
    }
   ],
   "source": [
    "clf1 = tree.DecisionTreeClassifier(criterion = \"gini\", max_leaf_nodes=5)\n",
    "clf1 = clf1.fit(X1, y1)"
   ]
  },
  {
   "cell_type": "code",
   "execution_count": 31,
   "id": "a6e4a416",
   "metadata": {
    "scrolled": false
   },
   "outputs": [
    {
     "data": {
      "image/svg+xml": [
       "<?xml version=\"1.0\" encoding=\"UTF-8\" standalone=\"no\"?>\n",
       "<!DOCTYPE svg PUBLIC \"-//W3C//DTD SVG 1.1//EN\"\n",
       " \"http://www.w3.org/Graphics/SVG/1.1/DTD/svg11.dtd\">\n",
       "<!-- Generated by graphviz version 2.50.0 (0)\n",
       " -->\n",
       "<!-- Title: Tree Pages: 1 -->\n",
       "<svg width=\"653pt\" height=\"433pt\"\n",
       " viewBox=\"0.00 0.00 652.50 433.00\" xmlns=\"http://www.w3.org/2000/svg\" xmlns:xlink=\"http://www.w3.org/1999/xlink\">\n",
       "<g id=\"graph0\" class=\"graph\" transform=\"scale(1 1) rotate(0) translate(4 429)\">\n",
       "<title>Tree</title>\n",
       "<polygon fill=\"white\" stroke=\"transparent\" points=\"-4,4 -4,-429 648.5,-429 648.5,4 -4,4\"/>\n",
       "<!-- 0 -->\n",
       "<g id=\"node1\" class=\"node\">\n",
       "<title>0</title>\n",
       "<polygon fill=\"none\" stroke=\"black\" points=\"414,-425 274,-425 274,-342 414,-342 414,-425\"/>\n",
       "<text text-anchor=\"middle\" x=\"344\" y=\"-409.8\" font-family=\"Helvetica,sans-Serif\" font-size=\"14.00\">Married &lt;= 0.5</text>\n",
       "<text text-anchor=\"middle\" x=\"344\" y=\"-394.8\" font-family=\"Helvetica,sans-Serif\" font-size=\"14.00\">gini = 0.365</text>\n",
       "<text text-anchor=\"middle\" x=\"344\" y=\"-379.8\" font-family=\"Helvetica,sans-Serif\" font-size=\"14.00\">samples = 6155</text>\n",
       "<text text-anchor=\"middle\" x=\"344\" y=\"-364.8\" font-family=\"Helvetica,sans-Serif\" font-size=\"14.00\">value = [4674, 1481]</text>\n",
       "<text text-anchor=\"middle\" x=\"344\" y=\"-349.8\" font-family=\"Helvetica,sans-Serif\" font-size=\"14.00\">class = &lt;=50K</text>\n",
       "</g>\n",
       "<!-- 1 -->\n",
       "<g id=\"node2\" class=\"node\">\n",
       "<title>1</title>\n",
       "<polygon fill=\"none\" stroke=\"black\" points=\"335.5,-306 142.5,-306 142.5,-223 335.5,-223 335.5,-306\"/>\n",
       "<text text-anchor=\"middle\" x=\"239\" y=\"-290.8\" font-family=\"Helvetica,sans-Serif\" font-size=\"14.00\">Cap_Gains_Losses &lt;= 0.047</text>\n",
       "<text text-anchor=\"middle\" x=\"239\" y=\"-275.8\" font-family=\"Helvetica,sans-Serif\" font-size=\"14.00\">gini = 0.116</text>\n",
       "<text text-anchor=\"middle\" x=\"239\" y=\"-260.8\" font-family=\"Helvetica,sans-Serif\" font-size=\"14.00\">samples = 3262</text>\n",
       "<text text-anchor=\"middle\" x=\"239\" y=\"-245.8\" font-family=\"Helvetica,sans-Serif\" font-size=\"14.00\">value = [3060, 202]</text>\n",
       "<text text-anchor=\"middle\" x=\"239\" y=\"-230.8\" font-family=\"Helvetica,sans-Serif\" font-size=\"14.00\">class = &lt;=50K</text>\n",
       "</g>\n",
       "<!-- 0&#45;&gt;1 -->\n",
       "<g id=\"edge1\" class=\"edge\">\n",
       "<title>0&#45;&gt;1</title>\n",
       "<path fill=\"none\" stroke=\"black\" d=\"M307.57,-341.91C299.35,-332.74 290.54,-322.93 282.07,-313.49\"/>\n",
       "<polygon fill=\"black\" stroke=\"black\" points=\"284.65,-311.13 275.36,-306.02 279.44,-315.8 284.65,-311.13\"/>\n",
       "<text text-anchor=\"middle\" x=\"274.02\" y=\"-327.28\" font-family=\"Helvetica,sans-Serif\" font-size=\"14.00\">True</text>\n",
       "</g>\n",
       "<!-- 2 -->\n",
       "<g id=\"node7\" class=\"node\">\n",
       "<title>2</title>\n",
       "<polygon fill=\"none\" stroke=\"black\" points=\"546.5,-306 353.5,-306 353.5,-223 546.5,-223 546.5,-306\"/>\n",
       "<text text-anchor=\"middle\" x=\"450\" y=\"-290.8\" font-family=\"Helvetica,sans-Serif\" font-size=\"14.00\">Cap_Gains_Losses &lt;= 0.051</text>\n",
       "<text text-anchor=\"middle\" x=\"450\" y=\"-275.8\" font-family=\"Helvetica,sans-Serif\" font-size=\"14.00\">gini = 0.493</text>\n",
       "<text text-anchor=\"middle\" x=\"450\" y=\"-260.8\" font-family=\"Helvetica,sans-Serif\" font-size=\"14.00\">samples = 2893</text>\n",
       "<text text-anchor=\"middle\" x=\"450\" y=\"-245.8\" font-family=\"Helvetica,sans-Serif\" font-size=\"14.00\">value = [1614, 1279]</text>\n",
       "<text text-anchor=\"middle\" x=\"450\" y=\"-230.8\" font-family=\"Helvetica,sans-Serif\" font-size=\"14.00\">class = &lt;=50K</text>\n",
       "</g>\n",
       "<!-- 0&#45;&gt;2 -->\n",
       "<g id=\"edge6\" class=\"edge\">\n",
       "<title>0&#45;&gt;2</title>\n",
       "<path fill=\"none\" stroke=\"black\" d=\"M380.78,-341.91C389.08,-332.74 397.97,-322.93 406.52,-313.49\"/>\n",
       "<polygon fill=\"black\" stroke=\"black\" points=\"409.17,-315.78 413.29,-306.02 403.98,-311.08 409.17,-315.78\"/>\n",
       "<text text-anchor=\"middle\" x=\"414.52\" y=\"-327.29\" font-family=\"Helvetica,sans-Serif\" font-size=\"14.00\">False</text>\n",
       "</g>\n",
       "<!-- 5 -->\n",
       "<g id=\"node3\" class=\"node\">\n",
       "<title>5</title>\n",
       "<polygon fill=\"none\" stroke=\"black\" points=\"132,-179.5 0,-179.5 0,-111.5 132,-111.5 132,-179.5\"/>\n",
       "<text text-anchor=\"middle\" x=\"66\" y=\"-164.3\" font-family=\"Helvetica,sans-Serif\" font-size=\"14.00\">gini = 0.079</text>\n",
       "<text text-anchor=\"middle\" x=\"66\" y=\"-149.3\" font-family=\"Helvetica,sans-Serif\" font-size=\"14.00\">samples = 3098</text>\n",
       "<text text-anchor=\"middle\" x=\"66\" y=\"-134.3\" font-family=\"Helvetica,sans-Serif\" font-size=\"14.00\">value = [2971, 127]</text>\n",
       "<text text-anchor=\"middle\" x=\"66\" y=\"-119.3\" font-family=\"Helvetica,sans-Serif\" font-size=\"14.00\">class = &lt;=50K</text>\n",
       "</g>\n",
       "<!-- 1&#45;&gt;5 -->\n",
       "<g id=\"edge2\" class=\"edge\">\n",
       "<title>1&#45;&gt;5</title>\n",
       "<path fill=\"none\" stroke=\"black\" d=\"M178.98,-222.91C161.03,-210.77 141.4,-197.49 123.61,-185.46\"/>\n",
       "<polygon fill=\"black\" stroke=\"black\" points=\"125.29,-182.37 115.04,-179.67 121.36,-188.17 125.29,-182.37\"/>\n",
       "</g>\n",
       "<!-- 6 -->\n",
       "<g id=\"node4\" class=\"node\">\n",
       "<title>6</title>\n",
       "<polygon fill=\"none\" stroke=\"black\" points=\"343.5,-187 150.5,-187 150.5,-104 343.5,-104 343.5,-187\"/>\n",
       "<text text-anchor=\"middle\" x=\"247\" y=\"-171.8\" font-family=\"Helvetica,sans-Serif\" font-size=\"14.00\">Cap_Gains_Losses &lt;= 0.293</text>\n",
       "<text text-anchor=\"middle\" x=\"247\" y=\"-156.8\" font-family=\"Helvetica,sans-Serif\" font-size=\"14.00\">gini = 0.496</text>\n",
       "<text text-anchor=\"middle\" x=\"247\" y=\"-141.8\" font-family=\"Helvetica,sans-Serif\" font-size=\"14.00\">samples = 164</text>\n",
       "<text text-anchor=\"middle\" x=\"247\" y=\"-126.8\" font-family=\"Helvetica,sans-Serif\" font-size=\"14.00\">value = [89, 75]</text>\n",
       "<text text-anchor=\"middle\" x=\"247\" y=\"-111.8\" font-family=\"Helvetica,sans-Serif\" font-size=\"14.00\">class = &lt;=50K</text>\n",
       "</g>\n",
       "<!-- 1&#45;&gt;6 -->\n",
       "<g id=\"edge3\" class=\"edge\">\n",
       "<title>1&#45;&gt;6</title>\n",
       "<path fill=\"none\" stroke=\"black\" d=\"M241.78,-222.91C242.35,-214.56 242.95,-205.67 243.55,-197.02\"/>\n",
       "<polygon fill=\"black\" stroke=\"black\" points=\"247.04,-197.24 244.23,-187.02 240.06,-196.76 247.04,-197.24\"/>\n",
       "</g>\n",
       "<!-- 7 -->\n",
       "<g id=\"node5\" class=\"node\">\n",
       "<title>7</title>\n",
       "<polygon fill=\"none\" stroke=\"black\" points=\"238,-68 128,-68 128,0 238,0 238,-68\"/>\n",
       "<text text-anchor=\"middle\" x=\"183\" y=\"-52.8\" font-family=\"Helvetica,sans-Serif\" font-size=\"14.00\">gini = 0.389</text>\n",
       "<text text-anchor=\"middle\" x=\"183\" y=\"-37.8\" font-family=\"Helvetica,sans-Serif\" font-size=\"14.00\">samples = 72</text>\n",
       "<text text-anchor=\"middle\" x=\"183\" y=\"-22.8\" font-family=\"Helvetica,sans-Serif\" font-size=\"14.00\">value = [19, 53]</text>\n",
       "<text text-anchor=\"middle\" x=\"183\" y=\"-7.8\" font-family=\"Helvetica,sans-Serif\" font-size=\"14.00\">class = &gt;50K</text>\n",
       "</g>\n",
       "<!-- 6&#45;&gt;7 -->\n",
       "<g id=\"edge4\" class=\"edge\">\n",
       "<title>6&#45;&gt;7</title>\n",
       "<path fill=\"none\" stroke=\"black\" d=\"M223.17,-103.73C218.1,-95.06 212.75,-85.9 207.65,-77.18\"/>\n",
       "<polygon fill=\"black\" stroke=\"black\" points=\"210.53,-75.17 202.46,-68.3 204.49,-78.7 210.53,-75.17\"/>\n",
       "</g>\n",
       "<!-- 8 -->\n",
       "<g id=\"node6\" class=\"node\">\n",
       "<title>8</title>\n",
       "<polygon fill=\"none\" stroke=\"black\" points=\"366,-68 256,-68 256,0 366,0 366,-68\"/>\n",
       "<text text-anchor=\"middle\" x=\"311\" y=\"-52.8\" font-family=\"Helvetica,sans-Serif\" font-size=\"14.00\">gini = 0.364</text>\n",
       "<text text-anchor=\"middle\" x=\"311\" y=\"-37.8\" font-family=\"Helvetica,sans-Serif\" font-size=\"14.00\">samples = 92</text>\n",
       "<text text-anchor=\"middle\" x=\"311\" y=\"-22.8\" font-family=\"Helvetica,sans-Serif\" font-size=\"14.00\">value = [70, 22]</text>\n",
       "<text text-anchor=\"middle\" x=\"311\" y=\"-7.8\" font-family=\"Helvetica,sans-Serif\" font-size=\"14.00\">class = &lt;=50K</text>\n",
       "</g>\n",
       "<!-- 6&#45;&gt;8 -->\n",
       "<g id=\"edge5\" class=\"edge\">\n",
       "<title>6&#45;&gt;8</title>\n",
       "<path fill=\"none\" stroke=\"black\" d=\"M270.83,-103.73C275.9,-95.06 281.25,-85.9 286.35,-77.18\"/>\n",
       "<polygon fill=\"black\" stroke=\"black\" points=\"289.51,-78.7 291.54,-68.3 283.47,-75.17 289.51,-78.7\"/>\n",
       "</g>\n",
       "<!-- 3 -->\n",
       "<g id=\"node8\" class=\"node\">\n",
       "<title>3</title>\n",
       "<polygon fill=\"none\" stroke=\"black\" points=\"509,-179.5 377,-179.5 377,-111.5 509,-111.5 509,-179.5\"/>\n",
       "<text text-anchor=\"middle\" x=\"443\" y=\"-164.3\" font-family=\"Helvetica,sans-Serif\" font-size=\"14.00\">gini = 0.469</text>\n",
       "<text text-anchor=\"middle\" x=\"443\" y=\"-149.3\" font-family=\"Helvetica,sans-Serif\" font-size=\"14.00\">samples = 2506</text>\n",
       "<text text-anchor=\"middle\" x=\"443\" y=\"-134.3\" font-family=\"Helvetica,sans-Serif\" font-size=\"14.00\">value = [1567, 939]</text>\n",
       "<text text-anchor=\"middle\" x=\"443\" y=\"-119.3\" font-family=\"Helvetica,sans-Serif\" font-size=\"14.00\">class = &lt;=50K</text>\n",
       "</g>\n",
       "<!-- 2&#45;&gt;3 -->\n",
       "<g id=\"edge7\" class=\"edge\">\n",
       "<title>2&#45;&gt;3</title>\n",
       "<path fill=\"none\" stroke=\"black\" d=\"M447.57,-222.91C446.93,-212.2 446.24,-200.62 445.59,-189.78\"/>\n",
       "<polygon fill=\"black\" stroke=\"black\" points=\"449.08,-189.44 444.98,-179.67 442.09,-189.86 449.08,-189.44\"/>\n",
       "</g>\n",
       "<!-- 4 -->\n",
       "<g id=\"node9\" class=\"node\">\n",
       "<title>4</title>\n",
       "<polygon fill=\"none\" stroke=\"black\" points=\"644.5,-179.5 527.5,-179.5 527.5,-111.5 644.5,-111.5 644.5,-179.5\"/>\n",
       "<text text-anchor=\"middle\" x=\"586\" y=\"-164.3\" font-family=\"Helvetica,sans-Serif\" font-size=\"14.00\">gini = 0.213</text>\n",
       "<text text-anchor=\"middle\" x=\"586\" y=\"-149.3\" font-family=\"Helvetica,sans-Serif\" font-size=\"14.00\">samples = 387</text>\n",
       "<text text-anchor=\"middle\" x=\"586\" y=\"-134.3\" font-family=\"Helvetica,sans-Serif\" font-size=\"14.00\">value = [47, 340]</text>\n",
       "<text text-anchor=\"middle\" x=\"586\" y=\"-119.3\" font-family=\"Helvetica,sans-Serif\" font-size=\"14.00\">class = &gt;50K</text>\n",
       "</g>\n",
       "<!-- 2&#45;&gt;4 -->\n",
       "<g id=\"edge8\" class=\"edge\">\n",
       "<title>2&#45;&gt;4</title>\n",
       "<path fill=\"none\" stroke=\"black\" d=\"M497.18,-222.91C510.91,-211.1 525.89,-198.22 539.56,-186.45\"/>\n",
       "<polygon fill=\"black\" stroke=\"black\" points=\"542.15,-188.84 547.45,-179.67 537.58,-183.54 542.15,-188.84\"/>\n",
       "</g>\n",
       "</g>\n",
       "</svg>\n"
      ],
      "text/plain": [
       "<graphviz.sources.Source at 0x7fd342104250>"
      ]
     },
     "execution_count": 31,
     "metadata": {},
     "output_type": "execute_result"
    }
   ],
   "source": [
    "dot_data = tree.export_graphviz(clf1, out_file=None, feature_names= X1_names,\n",
    "                                class_names= y1_names)  \n",
    "\n",
    "graph = graphviz.Source(dot_data)  \n",
    "graph"
   ]
  },
  {
   "cell_type": "markdown",
   "id": "f70fa9df",
   "metadata": {},
   "source": [
    "#### 16. Use the training data set to build a C5.0 model to predict income using marital status and capital gains and losses. Specify a minimum of 75 cases per terminal node. Visualize the decision tree. Describe the first few splits in the decision tree."
   ]
  },
  {
   "cell_type": "code",
   "execution_count": 32,
   "id": "caa52ea9",
   "metadata": {},
   "outputs": [
    {
     "name": "stderr",
     "output_type": "stream",
     "text": [
      "/Users/gabirivera/opt/anaconda3/lib/python3.8/site-packages/sklearn/utils/validation.py:1858: FutureWarning: Feature names only support names that are all strings. Got feature names with dtypes: ['int', 'str']. An error will be raised in 1.2.\n",
      "  warnings.warn(\n"
     ]
    }
   ],
   "source": [
    "c50_01 = DecisionTreeClassifier(criterion=\"entropy\", max_leaf_nodes=5).fit(X,y)"
   ]
  },
  {
   "cell_type": "code",
   "execution_count": 33,
   "id": "114e708e",
   "metadata": {
    "scrolled": true
   },
   "outputs": [
    {
     "data": {
      "image/svg+xml": [
       "<?xml version=\"1.0\" encoding=\"UTF-8\" standalone=\"no\"?>\n",
       "<!DOCTYPE svg PUBLIC \"-//W3C//DTD SVG 1.1//EN\"\n",
       " \"http://www.w3.org/Graphics/SVG/1.1/DTD/svg11.dtd\">\n",
       "<!-- Generated by graphviz version 2.50.0 (0)\n",
       " -->\n",
       "<!-- Title: Tree Pages: 1 -->\n",
       "<svg width=\"715pt\" height=\"433pt\"\n",
       " viewBox=\"0.00 0.00 714.50 433.00\" xmlns=\"http://www.w3.org/2000/svg\" xmlns:xlink=\"http://www.w3.org/1999/xlink\">\n",
       "<g id=\"graph0\" class=\"graph\" transform=\"scale(1 1) rotate(0) translate(4 429)\">\n",
       "<title>Tree</title>\n",
       "<polygon fill=\"white\" stroke=\"transparent\" points=\"-4,4 -4,-429 710.5,-429 710.5,4 -4,4\"/>\n",
       "<!-- 0 -->\n",
       "<g id=\"node1\" class=\"node\">\n",
       "<title>0</title>\n",
       "<polygon fill=\"none\" stroke=\"black\" points=\"376.5,-425 229.5,-425 229.5,-342 376.5,-342 376.5,-425\"/>\n",
       "<text text-anchor=\"middle\" x=\"303\" y=\"-409.8\" font-family=\"Helvetica,sans-Serif\" font-size=\"14.00\">Married &lt;= 0.5</text>\n",
       "<text text-anchor=\"middle\" x=\"303\" y=\"-394.8\" font-family=\"Helvetica,sans-Serif\" font-size=\"14.00\">entropy = 0.794</text>\n",
       "<text text-anchor=\"middle\" x=\"303\" y=\"-379.8\" font-family=\"Helvetica,sans-Serif\" font-size=\"14.00\">samples = 18761</text>\n",
       "<text text-anchor=\"middle\" x=\"303\" y=\"-364.8\" font-family=\"Helvetica,sans-Serif\" font-size=\"14.00\">value = [14271, 4490]</text>\n",
       "<text text-anchor=\"middle\" x=\"303\" y=\"-349.8\" font-family=\"Helvetica,sans-Serif\" font-size=\"14.00\">class = &lt;=50K</text>\n",
       "</g>\n",
       "<!-- 1 -->\n",
       "<g id=\"node2\" class=\"node\">\n",
       "<title>1</title>\n",
       "<polygon fill=\"none\" stroke=\"black\" points=\"294.5,-306 101.5,-306 101.5,-223 294.5,-223 294.5,-306\"/>\n",
       "<text text-anchor=\"middle\" x=\"198\" y=\"-290.8\" font-family=\"Helvetica,sans-Serif\" font-size=\"14.00\">Cap_Gains_Losses &lt;= 0.047</text>\n",
       "<text text-anchor=\"middle\" x=\"198\" y=\"-275.8\" font-family=\"Helvetica,sans-Serif\" font-size=\"14.00\">entropy = 0.342</text>\n",
       "<text text-anchor=\"middle\" x=\"198\" y=\"-260.8\" font-family=\"Helvetica,sans-Serif\" font-size=\"14.00\">samples = 9891</text>\n",
       "<text text-anchor=\"middle\" x=\"198\" y=\"-245.8\" font-family=\"Helvetica,sans-Serif\" font-size=\"14.00\">value = [9260, 631]</text>\n",
       "<text text-anchor=\"middle\" x=\"198\" y=\"-230.8\" font-family=\"Helvetica,sans-Serif\" font-size=\"14.00\">class = &lt;=50K</text>\n",
       "</g>\n",
       "<!-- 0&#45;&gt;1 -->\n",
       "<g id=\"edge1\" class=\"edge\">\n",
       "<title>0&#45;&gt;1</title>\n",
       "<path fill=\"none\" stroke=\"black\" d=\"M266.57,-341.91C258.35,-332.74 249.54,-322.93 241.07,-313.49\"/>\n",
       "<polygon fill=\"black\" stroke=\"black\" points=\"243.65,-311.13 234.36,-306.02 238.44,-315.8 243.65,-311.13\"/>\n",
       "<text text-anchor=\"middle\" x=\"233.02\" y=\"-327.28\" font-family=\"Helvetica,sans-Serif\" font-size=\"14.00\">True</text>\n",
       "</g>\n",
       "<!-- 2 -->\n",
       "<g id=\"node5\" class=\"node\">\n",
       "<title>2</title>\n",
       "<polygon fill=\"none\" stroke=\"black\" points=\"505.5,-306 312.5,-306 312.5,-223 505.5,-223 505.5,-306\"/>\n",
       "<text text-anchor=\"middle\" x=\"409\" y=\"-290.8\" font-family=\"Helvetica,sans-Serif\" font-size=\"14.00\">Cap_Gains_Losses &lt;= 0.051</text>\n",
       "<text text-anchor=\"middle\" x=\"409\" y=\"-275.8\" font-family=\"Helvetica,sans-Serif\" font-size=\"14.00\">entropy = 0.988</text>\n",
       "<text text-anchor=\"middle\" x=\"409\" y=\"-260.8\" font-family=\"Helvetica,sans-Serif\" font-size=\"14.00\">samples = 8870</text>\n",
       "<text text-anchor=\"middle\" x=\"409\" y=\"-245.8\" font-family=\"Helvetica,sans-Serif\" font-size=\"14.00\">value = [5011, 3859]</text>\n",
       "<text text-anchor=\"middle\" x=\"409\" y=\"-230.8\" font-family=\"Helvetica,sans-Serif\" font-size=\"14.00\">class = &lt;=50K</text>\n",
       "</g>\n",
       "<!-- 0&#45;&gt;2 -->\n",
       "<g id=\"edge4\" class=\"edge\">\n",
       "<title>0&#45;&gt;2</title>\n",
       "<path fill=\"none\" stroke=\"black\" d=\"M339.78,-341.91C348.08,-332.74 356.97,-322.93 365.52,-313.49\"/>\n",
       "<polygon fill=\"black\" stroke=\"black\" points=\"368.17,-315.78 372.29,-306.02 362.98,-311.08 368.17,-315.78\"/>\n",
       "<text text-anchor=\"middle\" x=\"373.52\" y=\"-327.29\" font-family=\"Helvetica,sans-Serif\" font-size=\"14.00\">False</text>\n",
       "</g>\n",
       "<!-- 5 -->\n",
       "<g id=\"node3\" class=\"node\">\n",
       "<title>5</title>\n",
       "<polygon fill=\"none\" stroke=\"black\" points=\"132,-179.5 0,-179.5 0,-111.5 132,-111.5 132,-179.5\"/>\n",
       "<text text-anchor=\"middle\" x=\"66\" y=\"-164.3\" font-family=\"Helvetica,sans-Serif\" font-size=\"14.00\">entropy = 0.257</text>\n",
       "<text text-anchor=\"middle\" x=\"66\" y=\"-149.3\" font-family=\"Helvetica,sans-Serif\" font-size=\"14.00\">samples = 9342</text>\n",
       "<text text-anchor=\"middle\" x=\"66\" y=\"-134.3\" font-family=\"Helvetica,sans-Serif\" font-size=\"14.00\">value = [8938, 404]</text>\n",
       "<text text-anchor=\"middle\" x=\"66\" y=\"-119.3\" font-family=\"Helvetica,sans-Serif\" font-size=\"14.00\">class = &lt;=50K</text>\n",
       "</g>\n",
       "<!-- 1&#45;&gt;5 -->\n",
       "<g id=\"edge2\" class=\"edge\">\n",
       "<title>1&#45;&gt;5</title>\n",
       "<path fill=\"none\" stroke=\"black\" d=\"M152.2,-222.91C138.88,-211.1 124.35,-198.22 111.07,-186.45\"/>\n",
       "<polygon fill=\"black\" stroke=\"black\" points=\"113.22,-183.68 103.42,-179.67 108.58,-188.92 113.22,-183.68\"/>\n",
       "</g>\n",
       "<!-- 6 -->\n",
       "<g id=\"node4\" class=\"node\">\n",
       "<title>6</title>\n",
       "<polygon fill=\"none\" stroke=\"black\" points=\"275.5,-179.5 150.5,-179.5 150.5,-111.5 275.5,-111.5 275.5,-179.5\"/>\n",
       "<text text-anchor=\"middle\" x=\"213\" y=\"-164.3\" font-family=\"Helvetica,sans-Serif\" font-size=\"14.00\">entropy = 0.978</text>\n",
       "<text text-anchor=\"middle\" x=\"213\" y=\"-149.3\" font-family=\"Helvetica,sans-Serif\" font-size=\"14.00\">samples = 549</text>\n",
       "<text text-anchor=\"middle\" x=\"213\" y=\"-134.3\" font-family=\"Helvetica,sans-Serif\" font-size=\"14.00\">value = [322, 227]</text>\n",
       "<text text-anchor=\"middle\" x=\"213\" y=\"-119.3\" font-family=\"Helvetica,sans-Serif\" font-size=\"14.00\">class = &lt;=50K</text>\n",
       "</g>\n",
       "<!-- 1&#45;&gt;6 -->\n",
       "<g id=\"edge3\" class=\"edge\">\n",
       "<title>1&#45;&gt;6</title>\n",
       "<path fill=\"none\" stroke=\"black\" d=\"M203.2,-222.91C204.58,-212.2 206.06,-200.62 207.45,-189.78\"/>\n",
       "<polygon fill=\"black\" stroke=\"black\" points=\"210.95,-190.03 208.75,-179.67 204,-189.14 210.95,-190.03\"/>\n",
       "</g>\n",
       "<!-- 3 -->\n",
       "<g id=\"node6\" class=\"node\">\n",
       "<title>3</title>\n",
       "<polygon fill=\"none\" stroke=\"black\" points=\"464,-179.5 324,-179.5 324,-111.5 464,-111.5 464,-179.5\"/>\n",
       "<text text-anchor=\"middle\" x=\"394\" y=\"-164.3\" font-family=\"Helvetica,sans-Serif\" font-size=\"14.00\">entropy = 0.949</text>\n",
       "<text text-anchor=\"middle\" x=\"394\" y=\"-149.3\" font-family=\"Helvetica,sans-Serif\" font-size=\"14.00\">samples = 7632</text>\n",
       "<text text-anchor=\"middle\" x=\"394\" y=\"-134.3\" font-family=\"Helvetica,sans-Serif\" font-size=\"14.00\">value = [4821, 2811]</text>\n",
       "<text text-anchor=\"middle\" x=\"394\" y=\"-119.3\" font-family=\"Helvetica,sans-Serif\" font-size=\"14.00\">class = &lt;=50K</text>\n",
       "</g>\n",
       "<!-- 2&#45;&gt;3 -->\n",
       "<g id=\"edge5\" class=\"edge\">\n",
       "<title>2&#45;&gt;3</title>\n",
       "<path fill=\"none\" stroke=\"black\" d=\"M403.8,-222.91C402.42,-212.2 400.94,-200.62 399.55,-189.78\"/>\n",
       "<polygon fill=\"black\" stroke=\"black\" points=\"403,-189.14 398.25,-179.67 396.05,-190.03 403,-189.14\"/>\n",
       "</g>\n",
       "<!-- 4 -->\n",
       "<g id=\"node7\" class=\"node\">\n",
       "<title>4</title>\n",
       "<polygon fill=\"none\" stroke=\"black\" points=\"667.5,-187 482.5,-187 482.5,-104 667.5,-104 667.5,-187\"/>\n",
       "<text text-anchor=\"middle\" x=\"575\" y=\"-171.8\" font-family=\"Helvetica,sans-Serif\" font-size=\"14.00\">Cap_Gains_Losses &lt;= 0.21</text>\n",
       "<text text-anchor=\"middle\" x=\"575\" y=\"-156.8\" font-family=\"Helvetica,sans-Serif\" font-size=\"14.00\">entropy = 0.618</text>\n",
       "<text text-anchor=\"middle\" x=\"575\" y=\"-141.8\" font-family=\"Helvetica,sans-Serif\" font-size=\"14.00\">samples = 1238</text>\n",
       "<text text-anchor=\"middle\" x=\"575\" y=\"-126.8\" font-family=\"Helvetica,sans-Serif\" font-size=\"14.00\">value = [190, 1048]</text>\n",
       "<text text-anchor=\"middle\" x=\"575\" y=\"-111.8\" font-family=\"Helvetica,sans-Serif\" font-size=\"14.00\">class = &gt;50K</text>\n",
       "</g>\n",
       "<!-- 2&#45;&gt;4 -->\n",
       "<g id=\"edge6\" class=\"edge\">\n",
       "<title>2&#45;&gt;4</title>\n",
       "<path fill=\"none\" stroke=\"black\" d=\"M466.59,-222.91C480.37,-213.2 495.18,-202.76 509.29,-192.81\"/>\n",
       "<polygon fill=\"black\" stroke=\"black\" points=\"511.35,-195.64 517.51,-187.02 507.32,-189.92 511.35,-195.64\"/>\n",
       "</g>\n",
       "<!-- 7 -->\n",
       "<g id=\"node8\" class=\"node\">\n",
       "<title>7</title>\n",
       "<polygon fill=\"none\" stroke=\"black\" points=\"563.5,-68 446.5,-68 446.5,0 563.5,0 563.5,-68\"/>\n",
       "<text text-anchor=\"middle\" x=\"505\" y=\"-52.8\" font-family=\"Helvetica,sans-Serif\" font-size=\"14.00\">entropy = 0.123</text>\n",
       "<text text-anchor=\"middle\" x=\"505\" y=\"-37.8\" font-family=\"Helvetica,sans-Serif\" font-size=\"14.00\">samples = 593</text>\n",
       "<text text-anchor=\"middle\" x=\"505\" y=\"-22.8\" font-family=\"Helvetica,sans-Serif\" font-size=\"14.00\">value = [10, 583]</text>\n",
       "<text text-anchor=\"middle\" x=\"505\" y=\"-7.8\" font-family=\"Helvetica,sans-Serif\" font-size=\"14.00\">class = &gt;50K</text>\n",
       "</g>\n",
       "<!-- 4&#45;&gt;7 -->\n",
       "<g id=\"edge7\" class=\"edge\">\n",
       "<title>4&#45;&gt;7</title>\n",
       "<path fill=\"none\" stroke=\"black\" d=\"M548.93,-103.73C543.34,-94.97 537.41,-85.7 531.79,-76.91\"/>\n",
       "<polygon fill=\"black\" stroke=\"black\" points=\"534.62,-74.84 526.29,-68.3 528.72,-78.61 534.62,-74.84\"/>\n",
       "</g>\n",
       "<!-- 8 -->\n",
       "<g id=\"node9\" class=\"node\">\n",
       "<title>8</title>\n",
       "<polygon fill=\"none\" stroke=\"black\" points=\"706.5,-68 581.5,-68 581.5,0 706.5,0 706.5,-68\"/>\n",
       "<text text-anchor=\"middle\" x=\"644\" y=\"-52.8\" font-family=\"Helvetica,sans-Serif\" font-size=\"14.00\">entropy = 0.854</text>\n",
       "<text text-anchor=\"middle\" x=\"644\" y=\"-37.8\" font-family=\"Helvetica,sans-Serif\" font-size=\"14.00\">samples = 645</text>\n",
       "<text text-anchor=\"middle\" x=\"644\" y=\"-22.8\" font-family=\"Helvetica,sans-Serif\" font-size=\"14.00\">value = [180, 465]</text>\n",
       "<text text-anchor=\"middle\" x=\"644\" y=\"-7.8\" font-family=\"Helvetica,sans-Serif\" font-size=\"14.00\">class = &gt;50K</text>\n",
       "</g>\n",
       "<!-- 4&#45;&gt;8 -->\n",
       "<g id=\"edge8\" class=\"edge\">\n",
       "<title>4&#45;&gt;8</title>\n",
       "<path fill=\"none\" stroke=\"black\" d=\"M600.69,-103.73C606.21,-94.97 612.05,-85.7 617.59,-76.91\"/>\n",
       "<polygon fill=\"black\" stroke=\"black\" points=\"620.65,-78.63 623.02,-68.3 614.72,-74.89 620.65,-78.63\"/>\n",
       "</g>\n",
       "</g>\n",
       "</svg>\n"
      ],
      "text/plain": [
       "<graphviz.sources.Source at 0x7fd350f94310>"
      ]
     },
     "execution_count": 33,
     "metadata": {},
     "output_type": "execute_result"
    }
   ],
   "source": [
    "dot_data = tree.export_graphviz(c50_01, out_file=None, feature_names= X_names,\n",
    "                                class_names= y_names)  \n",
    "\n",
    "graph = graphviz.Source(dot_data)  \n",
    "graph"
   ]
  },
  {
   "cell_type": "markdown",
   "id": "daf95011",
   "metadata": {},
   "source": [
    "### Data Science Using Python and R: Chapter 11 hands-on analysis"
   ]
  },
  {
   "cell_type": "markdown",
   "id": "88020de2",
   "metadata": {},
   "source": [
    "#### 34. Use the training set to run a regression predicting Credit Score, based on Debt‐to‐Income Ratio and Request Amount. Obtain a summary of the model. Do both predictors belong in the model?"
   ]
  },
  {
   "cell_type": "code",
   "execution_count": 31,
   "id": "0625f38f",
   "metadata": {
    "scrolled": true
   },
   "outputs": [
    {
     "data": {
      "text/html": [
       "<div>\n",
       "<style scoped>\n",
       "    .dataframe tbody tr th:only-of-type {\n",
       "        vertical-align: middle;\n",
       "    }\n",
       "\n",
       "    .dataframe tbody tr th {\n",
       "        vertical-align: top;\n",
       "    }\n",
       "\n",
       "    .dataframe thead th {\n",
       "        text-align: right;\n",
       "    }\n",
       "</style>\n",
       "<table border=\"1\" class=\"dataframe\">\n",
       "  <thead>\n",
       "    <tr style=\"text-align: right;\">\n",
       "      <th></th>\n",
       "      <th>Approval</th>\n",
       "      <th>Credit Score</th>\n",
       "      <th>Debt-to-Income Ratio</th>\n",
       "      <th>Interest</th>\n",
       "      <th>Request Amount</th>\n",
       "    </tr>\n",
       "  </thead>\n",
       "  <tbody>\n",
       "    <tr>\n",
       "      <th>0</th>\n",
       "      <td>F</td>\n",
       "      <td>695.0</td>\n",
       "      <td>0.47</td>\n",
       "      <td>2700.0</td>\n",
       "      <td>6000.0</td>\n",
       "    </tr>\n",
       "    <tr>\n",
       "      <th>1</th>\n",
       "      <td>F</td>\n",
       "      <td>775.0</td>\n",
       "      <td>0.03</td>\n",
       "      <td>6300.0</td>\n",
       "      <td>14000.0</td>\n",
       "    </tr>\n",
       "    <tr>\n",
       "      <th>2</th>\n",
       "      <td>T</td>\n",
       "      <td>703.0</td>\n",
       "      <td>0.21</td>\n",
       "      <td>3600.0</td>\n",
       "      <td>8000.0</td>\n",
       "    </tr>\n",
       "    <tr>\n",
       "      <th>3</th>\n",
       "      <td>T</td>\n",
       "      <td>738.0</td>\n",
       "      <td>0.18</td>\n",
       "      <td>8100.0</td>\n",
       "      <td>18000.0</td>\n",
       "    </tr>\n",
       "    <tr>\n",
       "      <th>4</th>\n",
       "      <td>T</td>\n",
       "      <td>685.0</td>\n",
       "      <td>0.16</td>\n",
       "      <td>7650.0</td>\n",
       "      <td>17000.0</td>\n",
       "    </tr>\n",
       "  </tbody>\n",
       "</table>\n",
       "</div>"
      ],
      "text/plain": [
       "  Approval  Credit Score  Debt-to-Income Ratio  Interest  Request Amount\n",
       "0        F         695.0                  0.47    2700.0          6000.0\n",
       "1        F         775.0                  0.03    6300.0         14000.0\n",
       "2        T         703.0                  0.21    3600.0          8000.0\n",
       "3        T         738.0                  0.18    8100.0         18000.0\n",
       "4        T         685.0                  0.16    7650.0         17000.0"
      ]
     },
     "execution_count": 31,
     "metadata": {},
     "output_type": "execute_result"
    }
   ],
   "source": [
    "bank_train= pd.read_csv('bank_reg_training', sep = ',')\n",
    "\n",
    "bank_train.head(5)"
   ]
  },
  {
   "cell_type": "code",
   "execution_count": 32,
   "id": "5014348c",
   "metadata": {},
   "outputs": [],
   "source": [
    "import statsmodels.api as sm"
   ]
  },
  {
   "cell_type": "code",
   "execution_count": 33,
   "id": "ead230ff",
   "metadata": {},
   "outputs": [],
   "source": [
    "a = pd.DataFrame(bank_train[['Credit Score']])\n",
    "b = pd.DataFrame(bank_train[['Debt-to-Income Ratio', 'Request Amount']])"
   ]
  },
  {
   "cell_type": "code",
   "execution_count": 34,
   "id": "a93bd017",
   "metadata": {},
   "outputs": [],
   "source": [
    "b = sm.add_constant(b)"
   ]
  },
  {
   "cell_type": "code",
   "execution_count": 35,
   "id": "94cb9c87",
   "metadata": {},
   "outputs": [],
   "source": [
    "model01 = sm.OLS(a, b).fit()"
   ]
  },
  {
   "cell_type": "code",
   "execution_count": 36,
   "id": "766e9ef2",
   "metadata": {
    "scrolled": true
   },
   "outputs": [
    {
     "data": {
      "text/html": [
       "<table class=\"simpletable\">\n",
       "<caption>OLS Regression Results</caption>\n",
       "<tr>\n",
       "  <th>Dep. Variable:</th>      <td>Credit Score</td>   <th>  R-squared:         </th> <td>   0.028</td> \n",
       "</tr>\n",
       "<tr>\n",
       "  <th>Model:</th>                   <td>OLS</td>       <th>  Adj. R-squared:    </th> <td>   0.028</td> \n",
       "</tr>\n",
       "<tr>\n",
       "  <th>Method:</th>             <td>Least Squares</td>  <th>  F-statistic:       </th> <td>   156.2</td> \n",
       "</tr>\n",
       "<tr>\n",
       "  <th>Date:</th>             <td>Mon, 07 Nov 2022</td> <th>  Prob (F-statistic):</th> <td>1.37e-67</td> \n",
       "</tr>\n",
       "<tr>\n",
       "  <th>Time:</th>                 <td>18:20:54</td>     <th>  Log-Likelihood:    </th> <td> -59972.</td> \n",
       "</tr>\n",
       "<tr>\n",
       "  <th>No. Observations:</th>      <td> 10693</td>      <th>  AIC:               </th> <td>1.199e+05</td>\n",
       "</tr>\n",
       "<tr>\n",
       "  <th>Df Residuals:</th>          <td> 10690</td>      <th>  BIC:               </th> <td>1.200e+05</td>\n",
       "</tr>\n",
       "<tr>\n",
       "  <th>Df Model:</th>              <td>     2</td>      <th>                     </th>     <td> </td>    \n",
       "</tr>\n",
       "<tr>\n",
       "  <th>Covariance Type:</th>      <td>nonrobust</td>    <th>                     </th>     <td> </td>    \n",
       "</tr>\n",
       "</table>\n",
       "<table class=\"simpletable\">\n",
       "<tr>\n",
       "            <td></td>              <th>coef</th>     <th>std err</th>      <th>t</th>      <th>P>|t|</th>  <th>[0.025</th>    <th>0.975]</th>  \n",
       "</tr>\n",
       "<tr>\n",
       "  <th>const</th>                <td>  668.4562</td> <td>    1.336</td> <td>  500.275</td> <td> 0.000</td> <td>  665.837</td> <td>  671.075</td>\n",
       "</tr>\n",
       "<tr>\n",
       "  <th>Debt-to-Income Ratio</th> <td>  -48.1262</td> <td>    4.785</td> <td>  -10.058</td> <td> 0.000</td> <td>  -57.505</td> <td>  -38.747</td>\n",
       "</tr>\n",
       "<tr>\n",
       "  <th>Request Amount</th>       <td>    0.0011</td> <td> 6.84e-05</td> <td>   15.727</td> <td> 0.000</td> <td>    0.001</td> <td>    0.001</td>\n",
       "</tr>\n",
       "</table>\n",
       "<table class=\"simpletable\">\n",
       "<tr>\n",
       "  <th>Omnibus:</th>       <td>1658.575</td> <th>  Durbin-Watson:     </th> <td>   1.991</td>\n",
       "</tr>\n",
       "<tr>\n",
       "  <th>Prob(Omnibus):</th>  <td> 0.000</td>  <th>  Jarque-Bera (JB):  </th> <td>2844.250</td>\n",
       "</tr>\n",
       "<tr>\n",
       "  <th>Skew:</th>           <td>-1.021</td>  <th>  Prob(JB):          </th> <td>    0.00</td>\n",
       "</tr>\n",
       "<tr>\n",
       "  <th>Kurtosis:</th>       <td> 4.487</td>  <th>  Cond. No.          </th> <td>1.24e+05</td>\n",
       "</tr>\n",
       "</table><br/><br/>Notes:<br/>[1] Standard Errors assume that the covariance matrix of the errors is correctly specified.<br/>[2] The condition number is large, 1.24e+05. This might indicate that there are<br/>strong multicollinearity or other numerical problems."
      ],
      "text/plain": [
       "<class 'statsmodels.iolib.summary.Summary'>\n",
       "\"\"\"\n",
       "                            OLS Regression Results                            \n",
       "==============================================================================\n",
       "Dep. Variable:           Credit Score   R-squared:                       0.028\n",
       "Model:                            OLS   Adj. R-squared:                  0.028\n",
       "Method:                 Least Squares   F-statistic:                     156.2\n",
       "Date:                Mon, 07 Nov 2022   Prob (F-statistic):           1.37e-67\n",
       "Time:                        18:20:54   Log-Likelihood:                -59972.\n",
       "No. Observations:               10693   AIC:                         1.199e+05\n",
       "Df Residuals:                   10690   BIC:                         1.200e+05\n",
       "Df Model:                           2                                         \n",
       "Covariance Type:            nonrobust                                         \n",
       "========================================================================================\n",
       "                           coef    std err          t      P>|t|      [0.025      0.975]\n",
       "----------------------------------------------------------------------------------------\n",
       "const                  668.4562      1.336    500.275      0.000     665.837     671.075\n",
       "Debt-to-Income Ratio   -48.1262      4.785    -10.058      0.000     -57.505     -38.747\n",
       "Request Amount           0.0011   6.84e-05     15.727      0.000       0.001       0.001\n",
       "==============================================================================\n",
       "Omnibus:                     1658.575   Durbin-Watson:                   1.991\n",
       "Prob(Omnibus):                  0.000   Jarque-Bera (JB):             2844.250\n",
       "Skew:                          -1.021   Prob(JB):                         0.00\n",
       "Kurtosis:                       4.487   Cond. No.                     1.24e+05\n",
       "==============================================================================\n",
       "\n",
       "Notes:\n",
       "[1] Standard Errors assume that the covariance matrix of the errors is correctly specified.\n",
       "[2] The condition number is large, 1.24e+05. This might indicate that there are\n",
       "strong multicollinearity or other numerical problems.\n",
       "\"\"\""
      ]
     },
     "execution_count": 36,
     "metadata": {},
     "output_type": "execute_result"
    }
   ],
   "source": [
    "model01.summary()"
   ]
  },
  {
   "cell_type": "markdown",
   "id": "83e56b96",
   "metadata": {},
   "source": [
    "#### 35. Validate the model from the previous exercise."
   ]
  },
  {
   "cell_type": "code",
   "execution_count": 37,
   "id": "13d52bf7",
   "metadata": {},
   "outputs": [
    {
     "data": {
      "text/html": [
       "<div>\n",
       "<style scoped>\n",
       "    .dataframe tbody tr th:only-of-type {\n",
       "        vertical-align: middle;\n",
       "    }\n",
       "\n",
       "    .dataframe tbody tr th {\n",
       "        vertical-align: top;\n",
       "    }\n",
       "\n",
       "    .dataframe thead th {\n",
       "        text-align: right;\n",
       "    }\n",
       "</style>\n",
       "<table border=\"1\" class=\"dataframe\">\n",
       "  <thead>\n",
       "    <tr style=\"text-align: right;\">\n",
       "      <th></th>\n",
       "      <th>Approval</th>\n",
       "      <th>Credit Score</th>\n",
       "      <th>Debt-to-Income Ratio</th>\n",
       "      <th>Interest</th>\n",
       "      <th>Request Amount</th>\n",
       "    </tr>\n",
       "  </thead>\n",
       "  <tbody>\n",
       "    <tr>\n",
       "      <th>0</th>\n",
       "      <td>T</td>\n",
       "      <td>767.0</td>\n",
       "      <td>0.05</td>\n",
       "      <td>2700.0</td>\n",
       "      <td>6000.0</td>\n",
       "    </tr>\n",
       "    <tr>\n",
       "      <th>1</th>\n",
       "      <td>F</td>\n",
       "      <td>707.0</td>\n",
       "      <td>0.05</td>\n",
       "      <td>12150.0</td>\n",
       "      <td>27000.0</td>\n",
       "    </tr>\n",
       "    <tr>\n",
       "      <th>2</th>\n",
       "      <td>T</td>\n",
       "      <td>664.0</td>\n",
       "      <td>0.08</td>\n",
       "      <td>900.0</td>\n",
       "      <td>2000.0</td>\n",
       "    </tr>\n",
       "    <tr>\n",
       "      <th>3</th>\n",
       "      <td>F</td>\n",
       "      <td>652.0</td>\n",
       "      <td>0.05</td>\n",
       "      <td>9000.0</td>\n",
       "      <td>20000.0</td>\n",
       "    </tr>\n",
       "    <tr>\n",
       "      <th>4</th>\n",
       "      <td>T</td>\n",
       "      <td>664.0</td>\n",
       "      <td>0.27</td>\n",
       "      <td>5850.0</td>\n",
       "      <td>13000.0</td>\n",
       "    </tr>\n",
       "  </tbody>\n",
       "</table>\n",
       "</div>"
      ],
      "text/plain": [
       "  Approval  Credit Score  Debt-to-Income Ratio  Interest  Request Amount\n",
       "0        T         767.0                  0.05    2700.0          6000.0\n",
       "1        F         707.0                  0.05   12150.0         27000.0\n",
       "2        T         664.0                  0.08     900.0          2000.0\n",
       "3        F         652.0                  0.05    9000.0         20000.0\n",
       "4        T         664.0                  0.27    5850.0         13000.0"
      ]
     },
     "execution_count": 37,
     "metadata": {},
     "output_type": "execute_result"
    }
   ],
   "source": [
    "bank_test= pd.read_csv('bank_reg_test', sep = ',')\n",
    "bank_test.head(5)"
   ]
  },
  {
   "cell_type": "code",
   "execution_count": 38,
   "id": "8207ad7e",
   "metadata": {},
   "outputs": [],
   "source": [
    "a1 = pd.DataFrame(bank_test[['Credit Score']])\n",
    "b1 = pd.DataFrame(bank_test[['Debt-to-Income Ratio', 'Request Amount']])"
   ]
  },
  {
   "cell_type": "code",
   "execution_count": 39,
   "id": "9279fbf1",
   "metadata": {},
   "outputs": [],
   "source": [
    "b1 = sm.add_constant(b1)"
   ]
  },
  {
   "cell_type": "code",
   "execution_count": 40,
   "id": "3573e8da",
   "metadata": {},
   "outputs": [],
   "source": [
    "model_01 = sm.OLS(a1, b1).fit()"
   ]
  },
  {
   "cell_type": "code",
   "execution_count": 41,
   "id": "b0ebeb07",
   "metadata": {
    "scrolled": true
   },
   "outputs": [
    {
     "data": {
      "text/html": [
       "<table class=\"simpletable\">\n",
       "<caption>OLS Regression Results</caption>\n",
       "<tr>\n",
       "  <th>Dep. Variable:</th>      <td>Credit Score</td>   <th>  R-squared:         </th> <td>   0.038</td> \n",
       "</tr>\n",
       "<tr>\n",
       "  <th>Model:</th>                   <td>OLS</td>       <th>  Adj. R-squared:    </th> <td>   0.038</td> \n",
       "</tr>\n",
       "<tr>\n",
       "  <th>Method:</th>             <td>Least Squares</td>  <th>  F-statistic:       </th> <td>   215.4</td> \n",
       "</tr>\n",
       "<tr>\n",
       "  <th>Date:</th>             <td>Mon, 07 Nov 2022</td> <th>  Prob (F-statistic):</th> <td>1.94e-92</td> \n",
       "</tr>\n",
       "<tr>\n",
       "  <th>Time:</th>                 <td>18:20:57</td>     <th>  Log-Likelihood:    </th> <td> -60395.</td> \n",
       "</tr>\n",
       "<tr>\n",
       "  <th>No. Observations:</th>      <td> 10775</td>      <th>  AIC:               </th> <td>1.208e+05</td>\n",
       "</tr>\n",
       "<tr>\n",
       "  <th>Df Residuals:</th>          <td> 10772</td>      <th>  BIC:               </th> <td>1.208e+05</td>\n",
       "</tr>\n",
       "<tr>\n",
       "  <th>Df Model:</th>              <td>     2</td>      <th>                     </th>     <td> </td>    \n",
       "</tr>\n",
       "<tr>\n",
       "  <th>Covariance Type:</th>      <td>nonrobust</td>    <th>                     </th>     <td> </td>    \n",
       "</tr>\n",
       "</table>\n",
       "<table class=\"simpletable\">\n",
       "<tr>\n",
       "            <td></td>              <th>coef</th>     <th>std err</th>      <th>t</th>      <th>P>|t|</th>  <th>[0.025</th>    <th>0.975]</th>  \n",
       "</tr>\n",
       "<tr>\n",
       "  <th>const</th>                <td>  665.4987</td> <td>    1.328</td> <td>  501.265</td> <td> 0.000</td> <td>  662.896</td> <td>  668.101</td>\n",
       "</tr>\n",
       "<tr>\n",
       "  <th>Debt-to-Income Ratio</th> <td>  -52.1374</td> <td>    4.826</td> <td>  -10.803</td> <td> 0.000</td> <td>  -61.597</td> <td>  -42.677</td>\n",
       "</tr>\n",
       "<tr>\n",
       "  <th>Request Amount</th>       <td>    0.0013</td> <td> 6.85e-05</td> <td>   19.013</td> <td> 0.000</td> <td>    0.001</td> <td>    0.001</td>\n",
       "</tr>\n",
       "</table>\n",
       "<table class=\"simpletable\">\n",
       "<tr>\n",
       "  <th>Omnibus:</th>       <td>1792.693</td> <th>  Durbin-Watson:     </th> <td>   1.985</td>\n",
       "</tr>\n",
       "<tr>\n",
       "  <th>Prob(Omnibus):</th>  <td> 0.000</td>  <th>  Jarque-Bera (JB):  </th> <td>3194.120</td>\n",
       "</tr>\n",
       "<tr>\n",
       "  <th>Skew:</th>           <td>-1.067</td>  <th>  Prob(JB):          </th> <td>    0.00</td>\n",
       "</tr>\n",
       "<tr>\n",
       "  <th>Kurtosis:</th>       <td> 4.600</td>  <th>  Cond. No.          </th> <td>1.25e+05</td>\n",
       "</tr>\n",
       "</table><br/><br/>Notes:<br/>[1] Standard Errors assume that the covariance matrix of the errors is correctly specified.<br/>[2] The condition number is large, 1.25e+05. This might indicate that there are<br/>strong multicollinearity or other numerical problems."
      ],
      "text/plain": [
       "<class 'statsmodels.iolib.summary.Summary'>\n",
       "\"\"\"\n",
       "                            OLS Regression Results                            \n",
       "==============================================================================\n",
       "Dep. Variable:           Credit Score   R-squared:                       0.038\n",
       "Model:                            OLS   Adj. R-squared:                  0.038\n",
       "Method:                 Least Squares   F-statistic:                     215.4\n",
       "Date:                Mon, 07 Nov 2022   Prob (F-statistic):           1.94e-92\n",
       "Time:                        18:20:57   Log-Likelihood:                -60395.\n",
       "No. Observations:               10775   AIC:                         1.208e+05\n",
       "Df Residuals:                   10772   BIC:                         1.208e+05\n",
       "Df Model:                           2                                         \n",
       "Covariance Type:            nonrobust                                         \n",
       "========================================================================================\n",
       "                           coef    std err          t      P>|t|      [0.025      0.975]\n",
       "----------------------------------------------------------------------------------------\n",
       "const                  665.4987      1.328    501.265      0.000     662.896     668.101\n",
       "Debt-to-Income Ratio   -52.1374      4.826    -10.803      0.000     -61.597     -42.677\n",
       "Request Amount           0.0013   6.85e-05     19.013      0.000       0.001       0.001\n",
       "==============================================================================\n",
       "Omnibus:                     1792.693   Durbin-Watson:                   1.985\n",
       "Prob(Omnibus):                  0.000   Jarque-Bera (JB):             3194.120\n",
       "Skew:                          -1.067   Prob(JB):                         0.00\n",
       "Kurtosis:                       4.600   Cond. No.                     1.25e+05\n",
       "==============================================================================\n",
       "\n",
       "Notes:\n",
       "[1] Standard Errors assume that the covariance matrix of the errors is correctly specified.\n",
       "[2] The condition number is large, 1.25e+05. This might indicate that there are\n",
       "strong multicollinearity or other numerical problems.\n",
       "\"\"\""
      ]
     },
     "execution_count": 41,
     "metadata": {},
     "output_type": "execute_result"
    }
   ],
   "source": [
    "model_01.summary()"
   ]
  },
  {
   "cell_type": "markdown",
   "id": "0f11a8e3",
   "metadata": {},
   "source": [
    "#### 39. Find and interpret the value of s."
   ]
  },
  {
   "cell_type": "markdown",
   "id": "6b50cf2b",
   "metadata": {},
   "source": [
    "Bank test dataset s value:"
   ]
  },
  {
   "cell_type": "code",
   "execution_count": 42,
   "id": "dc692128",
   "metadata": {},
   "outputs": [
    {
     "data": {
      "text/plain": [
       "65.77845809176674"
      ]
     },
     "execution_count": 42,
     "metadata": {},
     "output_type": "execute_result"
    }
   ],
   "source": [
    "np.sqrt(model_01.scale)"
   ]
  },
  {
   "cell_type": "markdown",
   "id": "da0dc38a",
   "metadata": {},
   "source": [
    "Bank training dataset s value:"
   ]
  },
  {
   "cell_type": "code",
   "execution_count": 43,
   "id": "5d347546",
   "metadata": {},
   "outputs": [
    {
     "data": {
      "text/plain": [
       "66.00195259717187"
      ]
     },
     "execution_count": 43,
     "metadata": {},
     "output_type": "execute_result"
    }
   ],
   "source": [
    "np.sqrt(model01.scale)"
   ]
  },
  {
   "cell_type": "markdown",
   "id": "b809aced",
   "metadata": {},
   "source": [
    "#### 41. Find MAE(Baseline) and MAE(Regression), and determine whether the regression model outperformed its baseline model."
   ]
  },
  {
   "cell_type": "markdown",
   "id": "c8615e16",
   "metadata": {},
   "source": [
    "MAE: Regression"
   ]
  },
  {
   "cell_type": "code",
   "execution_count": 44,
   "id": "28b44763",
   "metadata": {},
   "outputs": [],
   "source": [
    "ytrue = bank_test[['Credit Score']]"
   ]
  },
  {
   "cell_type": "code",
   "execution_count": 45,
   "id": "ff3671bf",
   "metadata": {},
   "outputs": [],
   "source": [
    "ypred = model01.predict(b1)"
   ]
  },
  {
   "cell_type": "code",
   "execution_count": 46,
   "id": "961be230",
   "metadata": {
    "scrolled": true
   },
   "outputs": [
    {
     "data": {
      "text/plain": [
       "47.79066993785576"
      ]
     },
     "execution_count": 46,
     "metadata": {},
     "output_type": "execute_result"
    }
   ],
   "source": [
    "from sklearn.metrics import mean_absolute_error\n",
    "\n",
    "mean_absolute_error(y_true = ytrue, y_pred = ypred)"
   ]
  }
 ],
 "metadata": {
  "kernelspec": {
   "display_name": "Python [conda env:root] *",
   "language": "python",
   "name": "conda-root-py"
  },
  "language_info": {
   "codemirror_mode": {
    "name": "ipython",
    "version": 3
   },
   "file_extension": ".py",
   "mimetype": "text/x-python",
   "name": "python",
   "nbconvert_exporter": "python",
   "pygments_lexer": "ipython3",
   "version": "3.8.13"
  }
 },
 "nbformat": 4,
 "nbformat_minor": 5
}
