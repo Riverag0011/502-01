{
 "cells": [
  {
   "cell_type": "markdown",
   "id": "a5ce6f0d",
   "metadata": {},
   "source": [
    "# Module 3 Assignment"
   ]
  },
  {
   "cell_type": "markdown",
   "id": "fbec3119",
   "metadata": {},
   "source": [
    "### Gabi Rivera    ||   14Nov2022   ||   ADS502-01"
   ]
  },
  {
   "cell_type": "code",
   "execution_count": 2,
   "id": "72a8210e",
   "metadata": {},
   "outputs": [
    {
     "data": {
      "text/plain": [
       "'/Users/gabirivera/Desktop/MSADS2/ADS502-01/Module3/Assignment'"
      ]
     },
     "execution_count": 2,
     "metadata": {},
     "output_type": "execute_result"
    }
   ],
   "source": [
    "import os\n",
    "os.getcwd()"
   ]
  },
  {
   "cell_type": "code",
   "execution_count": 3,
   "id": "91b80f04",
   "metadata": {},
   "outputs": [],
   "source": [
    "import pandas as pd\n",
    "import numpy as np\n",
    "import seaborn as sns\n",
    "import matplotlib.pyplot as plt\n",
    "from sklearn.naive_bayes import MultinomialNB\n",
    "import statsmodels.tools.tools as stattools"
   ]
  },
  {
   "cell_type": "markdown",
   "id": "825912f1",
   "metadata": {},
   "source": [
    "### Data Science Using Python and R: Chapter 7 Hands-On Analysis"
   ]
  },
  {
   "cell_type": "markdown",
   "id": "7fa5edcd",
   "metadata": {},
   "source": [
    "23. Using the training data set, create a C5.0 model (Model 1) to predict a customer’s Income using Marital Status and Capital Gains and Losses. Obtain the predicted responses."
   ]
  },
  {
   "cell_type": "code",
   "execution_count": 4,
   "id": "be41c56a",
   "metadata": {},
   "outputs": [],
   "source": [
    "import statsmodels.tools.tools as stattools\n",
    "from sklearn.tree import DecisionTreeClassifier, export_graphviz\n",
    "from sklearn import tree"
   ]
  },
  {
   "cell_type": "code",
   "execution_count": 5,
   "id": "e4477638",
   "metadata": {},
   "outputs": [
    {
     "data": {
      "text/html": [
       "<div>\n",
       "<style scoped>\n",
       "    .dataframe tbody tr th:only-of-type {\n",
       "        vertical-align: middle;\n",
       "    }\n",
       "\n",
       "    .dataframe tbody tr th {\n",
       "        vertical-align: top;\n",
       "    }\n",
       "\n",
       "    .dataframe thead th {\n",
       "        text-align: right;\n",
       "    }\n",
       "</style>\n",
       "<table border=\"1\" class=\"dataframe\">\n",
       "  <thead>\n",
       "    <tr style=\"text-align: right;\">\n",
       "      <th></th>\n",
       "      <th>Marital status</th>\n",
       "      <th>Income</th>\n",
       "      <th>Cap_Gains_Losses</th>\n",
       "    </tr>\n",
       "  </thead>\n",
       "  <tbody>\n",
       "    <tr>\n",
       "      <th>0</th>\n",
       "      <td>Never-married</td>\n",
       "      <td>&lt;=50K</td>\n",
       "      <td>0.02174</td>\n",
       "    </tr>\n",
       "    <tr>\n",
       "      <th>1</th>\n",
       "      <td>Divorced</td>\n",
       "      <td>&lt;=50K</td>\n",
       "      <td>0.00000</td>\n",
       "    </tr>\n",
       "    <tr>\n",
       "      <th>2</th>\n",
       "      <td>Married</td>\n",
       "      <td>&lt;=50K</td>\n",
       "      <td>0.00000</td>\n",
       "    </tr>\n",
       "    <tr>\n",
       "      <th>3</th>\n",
       "      <td>Married</td>\n",
       "      <td>&lt;=50K</td>\n",
       "      <td>0.00000</td>\n",
       "    </tr>\n",
       "    <tr>\n",
       "      <th>4</th>\n",
       "      <td>Married</td>\n",
       "      <td>&lt;=50K</td>\n",
       "      <td>0.00000</td>\n",
       "    </tr>\n",
       "  </tbody>\n",
       "</table>\n",
       "</div>"
      ],
      "text/plain": [
       "  Marital status Income  Cap_Gains_Losses\n",
       "0  Never-married  <=50K           0.02174\n",
       "1       Divorced  <=50K           0.00000\n",
       "2        Married  <=50K           0.00000\n",
       "3        Married  <=50K           0.00000\n",
       "4        Married  <=50K           0.00000"
      ]
     },
     "execution_count": 5,
     "metadata": {},
     "output_type": "execute_result"
    }
   ],
   "source": [
    "adult_tr= pd.read_csv('adult_ch6_training', sep = ',')\n",
    "adult_tr.head()"
   ]
  },
  {
   "cell_type": "code",
   "execution_count": 6,
   "id": "be713c44",
   "metadata": {},
   "outputs": [
    {
     "name": "stderr",
     "output_type": "stream",
     "text": [
      "/Users/gabirivera/opt/anaconda3/lib/python3.8/site-packages/statsmodels/tools/tools.py:152: FutureWarning: categorical is deprecated. Use pandas Categorical to represent categorical data and can get_dummies to construct dummy arrays. It will be removed after release 0.13.\n",
      "  warnings.warn(\n"
     ]
    }
   ],
   "source": [
    "y = adult_tr[['Income']]\n",
    "\n",
    "mar_np = np.array(adult_tr['Marital status'])\n",
    "(mar_cat, mar_cat_dict) = stattools.categorical(mar_np, drop=True, dictnames = True)\n",
    "mar_cat_pd = pd.DataFrame(mar_cat)\n",
    "X = pd.concat((adult_tr[['Cap_Gains_Losses']], mar_cat_pd), axis = 1)\n",
    "\n",
    "mar_cat_dict\n",
    "\n",
    "X_names = [\"Cap_Gains_Losses\", \"Divorced\", \"Married\", \"Never-married\",\n",
    "           \"Separated\", \"Widowed\"]\n",
    "\n",
    "y_names = [\"<=50K\", \">50K\"]"
   ]
  },
  {
   "cell_type": "code",
   "execution_count": 7,
   "id": "069d3ea1",
   "metadata": {
    "scrolled": true
   },
   "outputs": [
    {
     "name": "stderr",
     "output_type": "stream",
     "text": [
      "/Users/gabirivera/opt/anaconda3/lib/python3.8/site-packages/sklearn/utils/validation.py:1858: FutureWarning: Feature names only support names that are all strings. Got feature names with dtypes: ['int', 'str']. An error will be raised in 1.2.\n",
      "  warnings.warn(\n"
     ]
    }
   ],
   "source": [
    "c50_01 = DecisionTreeClassifier(criterion=\"entropy\", max_leaf_nodes=5).fit(X,y)"
   ]
  },
  {
   "cell_type": "code",
   "execution_count": 8,
   "id": "1ac7e98c",
   "metadata": {},
   "outputs": [
    {
     "name": "stderr",
     "output_type": "stream",
     "text": [
      "/Users/gabirivera/opt/anaconda3/lib/python3.8/site-packages/sklearn/utils/validation.py:1858: FutureWarning: Feature names only support names that are all strings. Got feature names with dtypes: ['int', 'str']. An error will be raised in 1.2.\n",
      "  warnings.warn(\n"
     ]
    },
    {
     "data": {
      "text/plain": [
       "array(['<=50K', '<=50K', '<=50K', ..., '<=50K', '<=50K', '<=50K'],\n",
       "      dtype=object)"
      ]
     },
     "execution_count": 8,
     "metadata": {},
     "output_type": "execute_result"
    }
   ],
   "source": [
    "c50_01.predict(X)"
   ]
  },
  {
   "cell_type": "markdown",
   "id": "6b911774",
   "metadata": {},
   "source": [
    "### Data Science Using Python and R: Chapter 8 Hands-On Analysis"
   ]
  },
  {
   "cell_type": "markdown",
   "id": "8b68dd5b",
   "metadata": {},
   "source": [
    "31. Run the Naïve Bayes classifier to classify persons as living or dead based on sex and education."
   ]
  },
  {
   "cell_type": "code",
   "execution_count": 25,
   "id": "587a599c",
   "metadata": {},
   "outputs": [
    {
     "data": {
      "text/html": [
       "<div>\n",
       "<style scoped>\n",
       "    .dataframe tbody tr th:only-of-type {\n",
       "        vertical-align: middle;\n",
       "    }\n",
       "\n",
       "    .dataframe tbody tr th {\n",
       "        vertical-align: top;\n",
       "    }\n",
       "\n",
       "    .dataframe thead th {\n",
       "        text-align: right;\n",
       "    }\n",
       "</style>\n",
       "<table border=\"1\" class=\"dataframe\">\n",
       "  <thead>\n",
       "    <tr style=\"text-align: right;\">\n",
       "      <th></th>\n",
       "      <th>Sex</th>\n",
       "      <th>Educ</th>\n",
       "      <th>Death</th>\n",
       "    </tr>\n",
       "  </thead>\n",
       "  <tbody>\n",
       "    <tr>\n",
       "      <th>0</th>\n",
       "      <td>2</td>\n",
       "      <td>3</td>\n",
       "      <td>0</td>\n",
       "    </tr>\n",
       "    <tr>\n",
       "      <th>1</th>\n",
       "      <td>2</td>\n",
       "      <td>2</td>\n",
       "      <td>0</td>\n",
       "    </tr>\n",
       "    <tr>\n",
       "      <th>2</th>\n",
       "      <td>1</td>\n",
       "      <td>1</td>\n",
       "      <td>0</td>\n",
       "    </tr>\n",
       "    <tr>\n",
       "      <th>3</th>\n",
       "      <td>2</td>\n",
       "      <td>1</td>\n",
       "      <td>0</td>\n",
       "    </tr>\n",
       "    <tr>\n",
       "      <th>4</th>\n",
       "      <td>2</td>\n",
       "      <td>1</td>\n",
       "      <td>0</td>\n",
       "    </tr>\n",
       "  </tbody>\n",
       "</table>\n",
       "</div>"
      ],
      "text/plain": [
       "   Sex  Educ  Death\n",
       "0    2     3      0\n",
       "1    2     2      0\n",
       "2    1     1      0\n",
       "3    2     1      0\n",
       "4    2     1      0"
      ]
     },
     "execution_count": 25,
     "metadata": {},
     "output_type": "execute_result"
    }
   ],
   "source": [
    "fn_train = pd.read_csv(\"framingham_nb_training.csv\", sep = ',')\n",
    "fn_train.head()"
   ]
  },
  {
   "cell_type": "code",
   "execution_count": 26,
   "id": "550148b3",
   "metadata": {
    "scrolled": true
   },
   "outputs": [
    {
     "data": {
      "text/html": [
       "<div>\n",
       "<style scoped>\n",
       "    .dataframe tbody tr th:only-of-type {\n",
       "        vertical-align: middle;\n",
       "    }\n",
       "\n",
       "    .dataframe tbody tr th {\n",
       "        vertical-align: top;\n",
       "    }\n",
       "\n",
       "    .dataframe thead th {\n",
       "        text-align: right;\n",
       "    }\n",
       "</style>\n",
       "<table border=\"1\" class=\"dataframe\">\n",
       "  <thead>\n",
       "    <tr style=\"text-align: right;\">\n",
       "      <th></th>\n",
       "      <th>Sex</th>\n",
       "      <th>Educ</th>\n",
       "      <th>Death</th>\n",
       "    </tr>\n",
       "  </thead>\n",
       "  <tbody>\n",
       "    <tr>\n",
       "      <th>0</th>\n",
       "      <td>1</td>\n",
       "      <td>1</td>\n",
       "      <td>0</td>\n",
       "    </tr>\n",
       "    <tr>\n",
       "      <th>1</th>\n",
       "      <td>1</td>\n",
       "      <td>2</td>\n",
       "      <td>0</td>\n",
       "    </tr>\n",
       "    <tr>\n",
       "      <th>2</th>\n",
       "      <td>1</td>\n",
       "      <td>3</td>\n",
       "      <td>0</td>\n",
       "    </tr>\n",
       "    <tr>\n",
       "      <th>3</th>\n",
       "      <td>1</td>\n",
       "      <td>1</td>\n",
       "      <td>0</td>\n",
       "    </tr>\n",
       "    <tr>\n",
       "      <th>4</th>\n",
       "      <td>2</td>\n",
       "      <td>2</td>\n",
       "      <td>0</td>\n",
       "    </tr>\n",
       "  </tbody>\n",
       "</table>\n",
       "</div>"
      ],
      "text/plain": [
       "   Sex  Educ  Death\n",
       "0    1     1      0\n",
       "1    1     2      0\n",
       "2    1     3      0\n",
       "3    1     1      0\n",
       "4    2     2      0"
      ]
     },
     "execution_count": 26,
     "metadata": {},
     "output_type": "execute_result"
    }
   ],
   "source": [
    "fn_test = pd.read_csv(\"framingham_nb_test.csv\", sep = ',')\n",
    "fn_test.head()"
   ]
  },
  {
   "cell_type": "markdown",
   "id": "3b3ffe5e",
   "metadata": {},
   "source": [
    "Contingency table: Death based on sex"
   ]
  },
  {
   "cell_type": "code",
   "execution_count": 30,
   "id": "e0c18280",
   "metadata": {},
   "outputs": [
    {
     "data": {
      "text/html": [
       "<div>\n",
       "<style scoped>\n",
       "    .dataframe tbody tr th:only-of-type {\n",
       "        vertical-align: middle;\n",
       "    }\n",
       "\n",
       "    .dataframe tbody tr th {\n",
       "        vertical-align: top;\n",
       "    }\n",
       "\n",
       "    .dataframe thead th {\n",
       "        text-align: right;\n",
       "    }\n",
       "</style>\n",
       "<table border=\"1\" class=\"dataframe\">\n",
       "  <thead>\n",
       "    <tr style=\"text-align: right;\">\n",
       "      <th>Sex</th>\n",
       "      <th>1</th>\n",
       "      <th>2</th>\n",
       "      <th>Total</th>\n",
       "    </tr>\n",
       "    <tr>\n",
       "      <th>Death</th>\n",
       "      <th></th>\n",
       "      <th></th>\n",
       "      <th></th>\n",
       "    </tr>\n",
       "  </thead>\n",
       "  <tbody>\n",
       "    <tr>\n",
       "      <th>0</th>\n",
       "      <td>184</td>\n",
       "      <td>266</td>\n",
       "      <td>450</td>\n",
       "    </tr>\n",
       "    <tr>\n",
       "      <th>1</th>\n",
       "      <td>308</td>\n",
       "      <td>242</td>\n",
       "      <td>550</td>\n",
       "    </tr>\n",
       "    <tr>\n",
       "      <th>Total</th>\n",
       "      <td>492</td>\n",
       "      <td>508</td>\n",
       "      <td>1000</td>\n",
       "    </tr>\n",
       "  </tbody>\n",
       "</table>\n",
       "</div>"
      ],
      "text/plain": [
       "Sex      1    2  Total\n",
       "Death                 \n",
       "0      184  266    450\n",
       "1      308  242    550\n",
       "Total  492  508   1000"
      ]
     },
     "execution_count": 30,
     "metadata": {},
     "output_type": "execute_result"
    }
   ],
   "source": [
    "t1 = pd.crosstab(fn_train['Death'], fn_train['Sex'])\n",
    "t1['Total'] = t1.sum(axis=1)\n",
    "t1.loc['Total'] = t1.sum()\n",
    "t1"
   ]
  },
  {
   "cell_type": "markdown",
   "id": "e20c46fd",
   "metadata": {},
   "source": [
    "Contingency table: Death based on sex"
   ]
  },
  {
   "cell_type": "code",
   "execution_count": 31,
   "id": "58ff2363",
   "metadata": {
    "scrolled": true
   },
   "outputs": [
    {
     "data": {
      "text/html": [
       "<div>\n",
       "<style scoped>\n",
       "    .dataframe tbody tr th:only-of-type {\n",
       "        vertical-align: middle;\n",
       "    }\n",
       "\n",
       "    .dataframe tbody tr th {\n",
       "        vertical-align: top;\n",
       "    }\n",
       "\n",
       "    .dataframe thead th {\n",
       "        text-align: right;\n",
       "    }\n",
       "</style>\n",
       "<table border=\"1\" class=\"dataframe\">\n",
       "  <thead>\n",
       "    <tr style=\"text-align: right;\">\n",
       "      <th>Educ</th>\n",
       "      <th>1</th>\n",
       "      <th>2</th>\n",
       "      <th>3</th>\n",
       "      <th>4</th>\n",
       "      <th>Total</th>\n",
       "    </tr>\n",
       "    <tr>\n",
       "      <th>Death</th>\n",
       "      <th></th>\n",
       "      <th></th>\n",
       "      <th></th>\n",
       "      <th></th>\n",
       "      <th></th>\n",
       "    </tr>\n",
       "  </thead>\n",
       "  <tbody>\n",
       "    <tr>\n",
       "      <th>0</th>\n",
       "      <td>173</td>\n",
       "      <td>146</td>\n",
       "      <td>84</td>\n",
       "      <td>47</td>\n",
       "      <td>450</td>\n",
       "    </tr>\n",
       "    <tr>\n",
       "      <th>1</th>\n",
       "      <td>287</td>\n",
       "      <td>135</td>\n",
       "      <td>80</td>\n",
       "      <td>48</td>\n",
       "      <td>550</td>\n",
       "    </tr>\n",
       "    <tr>\n",
       "      <th>Total</th>\n",
       "      <td>460</td>\n",
       "      <td>281</td>\n",
       "      <td>164</td>\n",
       "      <td>95</td>\n",
       "      <td>1000</td>\n",
       "    </tr>\n",
       "  </tbody>\n",
       "</table>\n",
       "</div>"
      ],
      "text/plain": [
       "Educ     1    2    3   4  Total\n",
       "Death                          \n",
       "0      173  146   84  47    450\n",
       "1      287  135   80  48    550\n",
       "Total  460  281  164  95   1000"
      ]
     },
     "execution_count": 31,
     "metadata": {},
     "output_type": "execute_result"
    }
   ],
   "source": [
    "t2 = pd.crosstab(fn_train['Death'], fn_train['Educ'])\n",
    "t2['Total'] = t2.sum(axis=1)\n",
    "t2.loc['Total'] = t2.sum()\n",
    "t2"
   ]
  },
  {
   "cell_type": "markdown",
   "id": "a527f215",
   "metadata": {},
   "source": [
    "Plot: Death based on sex"
   ]
  },
  {
   "cell_type": "code",
   "execution_count": 29,
   "id": "5c169c44",
   "metadata": {},
   "outputs": [
    {
     "data": {
      "text/plain": [
       "<AxesSubplot:xlabel='Sex'>"
      ]
     },
     "execution_count": 29,
     "metadata": {},
     "output_type": "execute_result"
    },
    {
     "data": {
      "image/png": "[encoded data removed]",
      "text/plain": [
       "<Figure size 640x480 with 1 Axes>"
      ]
     },
     "metadata": {},
     "output_type": "display_data"
    }
   ],
   "source": [
    "t1_plot = pd.crosstab(fn_train['Sex'], fn_train['Death'])\n",
    "t1_plot.plot(kind='bar', stacked = True)"
   ]
  },
  {
   "cell_type": "code",
   "execution_count": null,
   "id": "acd2bde5",
   "metadata": {},
   "outputs": [],
   "source": [
    "Plot: Death based on education"
   ]
  },
  {
   "cell_type": "code",
   "execution_count": 33,
   "id": "40692f9a",
   "metadata": {},
   "outputs": [
    {
     "data": {
      "text/plain": [
       "<AxesSubplot:xlabel='Educ'>"
      ]
     },
     "execution_count": 33,
     "metadata": {},
     "output_type": "execute_result"
    },
    {
     "data": {
      "image/png": "[encoded data removed]",
      "text/plain": [
       "<Figure size 640x480 with 1 Axes>"
      ]
     },
     "metadata": {},
     "output_type": "display_data"
    }
   ],
   "source": [
    "t2_plot = pd.crosstab(fn_train['Educ'], fn_train['Death'])\n",
    "t2_plot.plot(kind='bar', stacked = True)"
   ]
  },
  {
   "cell_type": "markdown",
   "id": "82a88330",
   "metadata": {},
   "source": [
    "Naive Bayes dataset prep: "
   ]
  },
  {
   "cell_type": "code",
   "execution_count": 42,
   "id": "20b2ad99",
   "metadata": {},
   "outputs": [
    {
     "name": "stderr",
     "output_type": "stream",
     "text": [
      "/Users/gabirivera/opt/anaconda3/lib/python3.8/site-packages/statsmodels/tools/tools.py:152: FutureWarning: categorical is deprecated. Use pandas Categorical to represent categorical data and can get_dummies to construct dummy arrays. It will be removed after release 0.13.\n",
      "  warnings.warn(\n"
     ]
    }
   ],
   "source": [
    "X_Sex_ind = np.array(fn_train['Sex'])\n",
    "(X_Sex_ind , X_Sex_ind_dict) = stattools.categorical(X_Sex_ind,drop=True, dictnames = True)\n",
    "X_Sex_ind = pd.DataFrame(X_Sex_ind)\n",
    "\n",
    "X_Educ_ind = np.array(fn_train['Educ'])\n",
    "(X_Educ_ind , X_Educ_ind_dict) = stattools.categorical(X_Educ_ind, drop=True, dictnames = True)\n",
    "X_Educ_ind = pd.DataFrame(X_Educ_ind)\n",
    "\n",
    "\n",
    "\n",
    "X = pd.concat((X_Sex_ind, X_Educ_ind), axis = 1)\n",
    "Y = fn_train['Death']"
   ]
  },
  {
   "cell_type": "code",
   "execution_count": 51,
   "id": "f308d338",
   "metadata": {},
   "outputs": [],
   "source": [
    "nb_01 = MultinomialNB().fit(X, Y)"
   ]
  },
  {
   "cell_type": "markdown",
   "id": "f451f4fd",
   "metadata": {},
   "source": [
    "32. Evaluate the Naïve Bayes model on the framingham_nb_test data set. Display the results in a contingency table. Edit the row and column names of the table to make the table more readable. Include a total row and column."
   ]
  },
  {
   "cell_type": "markdown",
   "id": "d0dc1027",
   "metadata": {},
   "source": [
    "Naïve Bayes model on the framingham_nb_test data set:"
   ]
  },
  {
   "cell_type": "code",
   "execution_count": 43,
   "id": "12a50585",
   "metadata": {},
   "outputs": [],
   "source": [
    "X_Sex_ind_test = np.array(fn_test['Sex'])\n",
    "(X_Sex_ind_test, X_Sex_ind_dict_test) = stattools.categorical(X_Sex_ind_test,drop=True, dictnames = True)\n",
    "X_Sex_ind_test = pd.DataFrame(X_Sex_ind_test)\n",
    "\n",
    "X_Educ_ind_test = np.array(fn_test['Educ'])\n",
    "(X_Educ_ind_test, X_Educ_ind_dict_test) = stattools.categorical(X_Educ_ind_test, drop=True, dictnames = True)\n",
    "X_Educ_ind_test = pd.DataFrame(X_Educ_ind_test)\n",
    "\n",
    "X_test = pd.concat((X_Sex_ind_test, X_Educ_ind_test), axis = 1)\n",
    "Y_predicted = nb_01.predict(X_test)"
   ]
  },
  {
   "cell_type": "markdown",
   "id": "62b7a0c7",
   "metadata": {},
   "source": [
    "Naive Bayes contingency table:"
   ]
  },
  {
   "cell_type": "code",
   "execution_count": 49,
   "id": "ea518025",
   "metadata": {},
   "outputs": [
    {
     "data": {
      "text/html": [
       "<div>\n",
       "<style scoped>\n",
       "    .dataframe tbody tr th:only-of-type {\n",
       "        vertical-align: middle;\n",
       "    }\n",
       "\n",
       "    .dataframe tbody tr th {\n",
       "        vertical-align: top;\n",
       "    }\n",
       "\n",
       "    .dataframe thead th {\n",
       "        text-align: right;\n",
       "    }\n",
       "</style>\n",
       "<table border=\"1\" class=\"dataframe\">\n",
       "  <thead>\n",
       "    <tr style=\"text-align: right;\">\n",
       "      <th>Predicted</th>\n",
       "      <th>0</th>\n",
       "      <th>1</th>\n",
       "      <th>Total</th>\n",
       "    </tr>\n",
       "    <tr>\n",
       "      <th>Actual</th>\n",
       "      <th></th>\n",
       "      <th></th>\n",
       "      <th></th>\n",
       "    </tr>\n",
       "  </thead>\n",
       "  <tbody>\n",
       "    <tr>\n",
       "      <th>0</th>\n",
       "      <td>203</td>\n",
       "      <td>322</td>\n",
       "      <td>525</td>\n",
       "    </tr>\n",
       "    <tr>\n",
       "      <th>1</th>\n",
       "      <td>105</td>\n",
       "      <td>370</td>\n",
       "      <td>475</td>\n",
       "    </tr>\n",
       "    <tr>\n",
       "      <th>Total</th>\n",
       "      <td>308</td>\n",
       "      <td>692</td>\n",
       "      <td>1000</td>\n",
       "    </tr>\n",
       "  </tbody>\n",
       "</table>\n",
       "</div>"
      ],
      "text/plain": [
       "Predicted    0    1  Total\n",
       "Actual                    \n",
       "0          203  322    525\n",
       "1          105  370    475\n",
       "Total      308  692   1000"
      ]
     },
     "execution_count": 49,
     "metadata": {},
     "output_type": "execute_result"
    }
   ],
   "source": [
    "ypred = pd.crosstab(fn_test['Death'], Y_predicted, rownames = ['Actual'], colnames = ['Predicted'])\n",
    "\n",
    "ypred['Total'] = ypred.sum(axis=1); ypred.loc['Total'] = ypred.sum(); ypred"
   ]
  },
  {
   "cell_type": "markdown",
   "id": "a89f894b",
   "metadata": {},
   "source": [
    "33. According to your table in the previous exercise, find the following values for the Naïve Bayes model:"
   ]
  },
  {
   "cell_type": "markdown",
   "id": "09661716",
   "metadata": {},
   "source": [
    "a. Accuracy"
   ]
  },
  {
   "cell_type": "code",
   "execution_count": 56,
   "id": "6feffe36",
   "metadata": {},
   "outputs": [
    {
     "data": {
      "text/plain": [
       "57.3"
      ]
     },
     "execution_count": 56,
     "metadata": {},
     "output_type": "execute_result"
    }
   ],
   "source": [
    "Accuracy_NB = ((203+370) / 1000) * 100\n",
    "Accuracy_NB"
   ]
  },
  {
   "cell_type": "markdown",
   "id": "6ece40de",
   "metadata": {},
   "source": [
    "b. Error rate"
   ]
  },
  {
   "cell_type": "code",
   "execution_count": 57,
   "id": "17c1e45e",
   "metadata": {},
   "outputs": [
    {
     "data": {
      "text/plain": [
       "42.7"
      ]
     },
     "execution_count": 57,
     "metadata": {},
     "output_type": "execute_result"
    }
   ],
   "source": [
    "Error_rate_NB = (100 - Accuracy_NB)\n",
    "Error_rate_NB"
   ]
  },
  {
   "cell_type": "markdown",
   "id": "3c6e4a86",
   "metadata": {},
   "source": [
    "34. According to your contingency table, find the following values for the Naïve Bayes model:"
   ]
  },
  {
   "cell_type": "markdown",
   "id": "6a2ca11c",
   "metadata": {},
   "source": [
    "a. How often it correctly classifies dead persons."
   ]
  },
  {
   "cell_type": "code",
   "execution_count": 61,
   "id": "77bf8a1e",
   "metadata": {},
   "outputs": [
    {
     "data": {
      "text/plain": [
       "38.7"
      ]
     },
     "execution_count": 61,
     "metadata": {},
     "output_type": "execute_result"
    }
   ],
   "source": [
    "Specificity_NB = (203/ 525)*100\n",
    "round(Specificity_NB, 1)"
   ]
  },
  {
   "cell_type": "markdown",
   "id": "db9efe95",
   "metadata": {},
   "source": [
    "b. How often it correctly classifies living persons."
   ]
  },
  {
   "cell_type": "code",
   "execution_count": 63,
   "id": "74b30503",
   "metadata": {},
   "outputs": [
    {
     "data": {
      "text/plain": [
       "77.9"
      ]
     },
     "execution_count": 63,
     "metadata": {},
     "output_type": "execute_result"
    }
   ],
   "source": [
    "Sensitivity_NB = (370/475)*100\n",
    "round(Sensitivity_NB, 1)"
   ]
  }
 ],
 "metadata": {
  "kernelspec": {
   "display_name": "Python [conda env:root] *",
   "language": "python",
   "name": "conda-root-py"
  },
  "language_info": {
   "codemirror_mode": {
    "name": "ipython",
    "version": 3
   },
   "file_extension": ".py",
   "mimetype": "text/x-python",
   "name": "python",
   "nbconvert_exporter": "python",
   "pygments_lexer": "ipython3",
   "version": "3.8.13"
  }
 },
 "nbformat": 4,
 "nbformat_minor": 5
}
